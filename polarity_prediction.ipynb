{
 "cells": [
  {
   "cell_type": "code",
   "execution_count": 1,
   "metadata": {
    "collapsed": true
   },
   "outputs": [],
   "source": [
    "import library as l\n",
    "\n",
    "import numpy as np\n",
    "import pandas as pd\n",
    "import copy\n",
    "import matplotlib.pyplot as plt\n",
    "import datetime\n",
    "import os\n",
    "\n",
    "from sklearn.feature_extraction.text import CountVectorizer\n",
    "from sklearn.linear_model import LogisticRegression\n",
    "\n",
    "from scipy.stats import linregress"
   ]
  },
  {
   "cell_type": "code",
   "execution_count": 2,
   "metadata": {
    "collapsed": true
   },
   "outputs": [],
   "source": [
    "loadstring = []\n",
    "loadstring.append('seed_1828_size_40000_topsize_300_date_2018-05-18')\n",
    "loadstring.append('seed_16376_size_40000_topsize_300_date_2018-05-18')\n",
    "loadstring.append('seed_23662_size_40000_topsize_300_date_2018-05-18')\n",
    "\n",
    "loop = range(len(loadstring))\n",
    "\n",
    "start_year = 2001\n",
    "end_year = 2014\n",
    "\n",
    "main = {}\n",
    "\n",
    "for j, lstr in enumerate(loadstring):\n",
    "    main[j] = {}\n",
    "\n",
    "    main[j]['models'] = {}\n",
    "    for i, model in enumerate(['/LR_' + str(start_year+x) + '.data' for x in range(end_year - start_year + 1)]):\n",
    "        main[j]['models'][i+1] = l.load_file(lstr + model)\n",
    "\n",
    "    main[j]['test_idx'] = {}\n",
    "    for i, indx in enumerate(['/test_idx_' + str(start_year+x) + '.data' for x in range(end_year - start_year + 1)]):\n",
    "        main[j]['test_idx'][i+1] = l.load_file(lstr + indx)\n",
    "\n",
    "    main[j]['train_idx'] = {}\n",
    "    for i, indx in enumerate(['/train_idx_' + str(start_year+x) + '.data' for x in range(end_year - start_year + 1)]):\n",
    "        main[j]['train_idx'][i+1] = l.load_file(lstr + indx)\n",
    "\n",
    "    main[j]['top_f'] = l.load_file(lstr + '/top_f.data')\n",
    "    main[j]['bot_f'] = l.load_file(lstr + '/top_f.data')\n",
    "    main[j]['CV'] = l.load_file(lstr + '/CV_2001.data')\n",
    "    main[j]['indices'] = l.load_file(lstr + '/indices.data')\n",
    "    main[j]['ratings'] = l.load_file(lstr + '/ratings.data')\n",
    "    main[j]['seen'] = l.load_file(lstr + '/seen.data')\n",
    "    main[j]['features'] = list(main[j]['CV'].get_feature_names())"
   ]
  },
  {
   "cell_type": "code",
   "execution_count": 3,
   "metadata": {
    "collapsed": true
   },
   "outputs": [],
   "source": [
    "for z in loop:\n",
    "    main[z]['tops'] = {}\n",
    "    for j in range(1,15):\n",
    "        for i, (_,x) in enumerate(sorted(zip(main[z]['models'][j].coef_[0], main[z]['features']), reverse=True)):\n",
    "            main[z]['tops'][x] = []\n",
    "            if i >= 300:\n",
    "                break\n",
    "    for j in range(1,15):\n",
    "        for i, (_,x) in enumerate(sorted(zip(main[z]['models'][j].coef_[0], main[z]['features']), reverse=True)):\n",
    "            if not main[z]['tops'].get(x) is None:\n",
    "                if i + 1 > 1500:\n",
    "                    k = 1500\n",
    "                else:\n",
    "                    k = i + 1\n",
    "                main[z]['tops'][x].append(k)\n",
    "\n",
    "    main[z]['bots'] = {}\n",
    "    for j in range(1,15):\n",
    "        for i, (_,x) in enumerate(sorted(zip(main[z]['models'][j].coef_[0], main[z]['features']))):\n",
    "            main[z]['bots'][x] = []\n",
    "            if i >= 300:\n",
    "                break\n",
    "    for j in range(1,15):\n",
    "        for i, (_,x) in enumerate(sorted(zip(main[z]['models'][j].coef_[0], main[z]['features']))):\n",
    "            if not main[z]['bots'].get(x) is None:\n",
    "                if i + 1 > 1500:\n",
    "                    k = 1500\n",
    "                else:\n",
    "                    k = i + 1\n",
    "                main[z]['bots'][x].append(k)\n",
    "\n",
    "for z in loop:\n",
    "    main[z]['top_slopes'] = []\n",
    "    temp = []\n",
    "    for key, values in main[z]['tops'].items():\n",
    "        main[z]['top_slopes'].append([key, values])\n",
    "        temp.append(sum(values))\n",
    "    main[z]['top_slopes'] = [y for (x,y) in sorted(zip(temp, main[z]['top_slopes']))]\n",
    "    \n",
    "for z in loop:\n",
    "    main[z]['bot_slopes'] = []\n",
    "    temp = []\n",
    "    for key, values in main[z]['bots'].items():\n",
    "        main[z]['bot_slopes'].append([key, values])\n",
    "        temp.append(sum(values))\n",
    "    main[z]['bot_slopes'] = [y for (x,y) in sorted(zip(temp, main[z]['bot_slopes']))]\n",
    "    \n",
    "top_slopes = []\n",
    "\n",
    "temp = []\n",
    "for z in loop:\n",
    "    temp.append(set([x[0] for x in main[z]['top_slopes']]))\n",
    "temp = list(set.intersection(*temp))\n",
    "indx = {}\n",
    "\n",
    "for z in loop:\n",
    "    for i, m in enumerate(main[z]['top_slopes']):\n",
    "        if m[0] in temp:\n",
    "            if z == 0:\n",
    "                top_slopes.append([m[0], [m[1]]])\n",
    "                indx[m[0]] = len(top_slopes)-1\n",
    "            else:\n",
    "                top_slopes[indx.get(m[0])][1].append(m[1])\n",
    "temp = [sum(x[1][0] + x[1][1] + x[1][2]) for x in top_slopes]\n",
    "top_slopes = [y for (x,y) in sorted(zip(temp, top_slopes))]\n",
    "#print(top_slopes)\n",
    "\n",
    "bot_slopes = []\n",
    "temp = []\n",
    "for z in loop:\n",
    "    temp.append(set([x[0] for x in main[z]['bot_slopes']]))\n",
    "temp = list(set.intersection(*temp))\n",
    "indx = {}\n",
    "\n",
    "for z in loop:\n",
    "    for i, m in enumerate(main[z]['bot_slopes']):\n",
    "        if m[0] in temp:\n",
    "            if z == 0:\n",
    "                bot_slopes.append([m[0], [m[1]]])\n",
    "                indx[m[0]] = len(bot_slopes)-1\n",
    "            else:\n",
    "                bot_slopes[indx.get(m[0])][1].append(m[1])\n",
    "temp = [sum(x[1][0] + x[1][1] + x[1][2]) for x in bot_slopes]\n",
    "bot_slopes = [y for (x,y) in sorted(zip(temp, bot_slopes))]"
   ]
  },
  {
   "cell_type": "code",
   "execution_count": 5,
   "metadata": {
    "collapsed": false
   },
   "outputs": [
    {
     "data": {
      "text/plain": [
       "array([[ 0.06041787,  0.01175008,  0.02809919, ..., -0.00825192,\n",
       "        -0.02273517,  0.05189959]])"
      ]
     },
     "execution_count": 5,
     "metadata": {},
     "output_type": "execute_result"
    }
   ],
   "source": [
    "main[0]['models'][1].coef_"
   ]
  },
  {
   "cell_type": "code",
   "execution_count": null,
   "metadata": {
    "collapsed": false
   },
   "outputs": [],
   "source": []
  },
  {
   "cell_type": "code",
   "execution_count": null,
   "metadata": {
    "collapsed": true
   },
   "outputs": [],
   "source": []
  }
 ],
 "metadata": {
  "anaconda-cloud": {},
  "kernelspec": {
   "display_name": "Python [default]",
   "language": "python",
   "name": "python3"
  },
  "language_info": {
   "codemirror_mode": {
    "name": "ipython",
    "version": 3
   },
   "file_extension": ".py",
   "mimetype": "text/x-python",
   "name": "python",
   "nbconvert_exporter": "python",
   "pygments_lexer": "ipython3",
   "version": "3.5.2"
  }
 },
 "nbformat": 4,
 "nbformat_minor": 1
}
