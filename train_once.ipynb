{
 "cells": [
  {
   "cell_type": "code",
   "execution_count": 1,
   "metadata": {
    "collapsed": true
   },
   "outputs": [],
   "source": [
    "import library as l\n",
    "\n",
    "import numpy as np\n",
    "import pandas as pd\n",
    "import copy\n",
    "import matplotlib.pyplot as plt\n",
    "import datetime\n",
    "import os\n",
    "\n",
    "from sklearn.feature_extraction.text import CountVectorizer\n",
    "from sklearn.linear_model import LogisticRegression"
   ]
  },
  {
   "cell_type": "code",
   "execution_count": 2,
   "metadata": {
    "collapsed": false
   },
   "outputs": [
    {
     "name": "stdout",
     "output_type": "stream",
     "text": [
      "135009\n"
     ]
    }
   ],
   "source": [
    "#loadstring = 'seed_1519_size_20000_topsize_300_date_2018-04-12'\n",
    "loadstring = 'seed_39169_size_40000_topsize_300_date_2018-04-12'\n",
    "\n",
    "models = {}\n",
    "for i, model in enumerate(['/LR_' + str(2001+x) + '.data' for x in range(14)]):\n",
    "    models[i+1] = l.load_file(loadstring + model)\n",
    "\n",
    "top_f = l.load_file(loadstring + '/top_f.data')\n",
    "bot_f = l.load_file(loadstring + '/top_f.data')\n",
    "CV = l.load_file(loadstring + '/CV_2001.data')\n",
    "indices = l.load_file(loadstring + '/indices.data')\n",
    "ratings = l.load_file(loadstring + '/ratings.data')\n",
    "seen = l.load_file(loadstring + '/seen.data')\n",
    "test_idx = l.load_file(loadstring + '/test_idx.data')\n",
    "train_idx = l.load_file(loadstring + '/train_idx.data')\n",
    "features = list(CV.get_feature_names())\n",
    "print(len(features))"
   ]
  },
  {
   "cell_type": "code",
   "execution_count": 3,
   "metadata": {
    "collapsed": false
   },
   "outputs": [],
   "source": [
    "from collections import defaultdict\n",
    "import json\n",
    "\n",
    "def load_previous_data(indices, file='aggressive_dedup.json'):\n",
    "    data = defaultdict(list)\n",
    "    time = defaultdict(list)\n",
    "    ratings = defaultdict(list)\n",
    "    \n",
    "    idx = sorted([item for sublist in indices.values() for item in sublist])\n",
    "    x = sorted(list(indices.keys()))\n",
    "    for yr in x:\n",
    "        data[yr] = list(np.zeros(len(indices[yr])))\n",
    "        time[yr] = list(np.zeros(len(indices[yr])))\n",
    "        ratings[yr] = list(np.zeros(len(indices[yr])))\n",
    "    with open(file) as infile:\n",
    "        i = 0\n",
    "        for line in infile:\n",
    "            if i == idx[0]:\n",
    "                idx.pop(0)\n",
    "                x = json.loads(line)\n",
    "                yr = x['reviewTime'][-4:]\n",
    "                j = indices[yr].index(i)\n",
    "                data[yr][j] = x.get('reviewText')\n",
    "                time[yr][j] = x.get('reviewTime')\n",
    "                ratings[yr][j] = int(x.get('overall'))    \n",
    "            i += 1\n",
    "            if len(idx) == 0:\n",
    "                break\n",
    "    \n",
    "    return data, time, ratings"
   ]
  },
  {
   "cell_type": "code",
   "execution_count": 4,
   "metadata": {
    "collapsed": false
   },
   "outputs": [],
   "source": [
    "data, time, ratings2 = load_previous_data(indices)\n",
    "l.simplify_ratings(data, ratings2)"
   ]
  },
  {
   "cell_type": "code",
   "execution_count": 5,
   "metadata": {
    "collapsed": false
   },
   "outputs": [
    {
     "ename": "NameError",
     "evalue": "name 'test_train' is not defined",
     "output_type": "error",
     "traceback": [
      "\u001b[0;31m---------------------------------------------------------------------------\u001b[0m",
      "\u001b[0;31mNameError\u001b[0m                                 Traceback (most recent call last)",
      "\u001b[0;32m<ipython-input-5-a0b9795b3231>\u001b[0m in \u001b[0;36m<module>\u001b[0;34m()\u001b[0m\n\u001b[1;32m      2\u001b[0m \u001b[1;33m\u001b[0m\u001b[0m\n\u001b[1;32m      3\u001b[0m \u001b[1;32mfor\u001b[0m \u001b[0meach\u001b[0m \u001b[1;32min\u001b[0m \u001b[0mx\u001b[0m\u001b[1;33m:\u001b[0m\u001b[1;33m\u001b[0m\u001b[0m\n\u001b[0;32m----> 4\u001b[0;31m     \u001b[0mX_train\u001b[0m\u001b[1;33m,\u001b[0m \u001b[0mX_test\u001b[0m\u001b[1;33m,\u001b[0m \u001b[0my_train\u001b[0m\u001b[1;33m,\u001b[0m \u001b[0my_test\u001b[0m \u001b[1;33m=\u001b[0m \u001b[0mtest_train\u001b[0m\u001b[1;33m(\u001b[0m\u001b[0mdata\u001b[0m\u001b[1;33m,\u001b[0m \u001b[0mratings2\u001b[0m\u001b[1;33m,\u001b[0m \u001b[0mloadstring\u001b[0m\u001b[1;33m,\u001b[0m \u001b[0meach\u001b[0m\u001b[1;33m)\u001b[0m\u001b[1;33m\u001b[0m\u001b[0m\n\u001b[0m\u001b[1;32m      5\u001b[0m     \u001b[0mLR\u001b[0m \u001b[1;33m=\u001b[0m \u001b[0mmodels\u001b[0m\u001b[1;33m[\u001b[0m\u001b[0meach\u001b[0m\u001b[1;33m]\u001b[0m\u001b[1;33m\u001b[0m\u001b[0m\n\u001b[1;32m      6\u001b[0m     \u001b[0mX_train\u001b[0m \u001b[1;33m=\u001b[0m \u001b[0mCV\u001b[0m\u001b[1;33m.\u001b[0m\u001b[0mfit_transform\u001b[0m\u001b[1;33m(\u001b[0m\u001b[0mX_train\u001b[0m\u001b[1;33m)\u001b[0m\u001b[1;33m\u001b[0m\u001b[0m\n",
      "\u001b[0;31mNameError\u001b[0m: name 'test_train' is not defined"
     ]
    }
   ],
   "source": [
    "x = sorted(models.keys())\n",
    "\n",
    "for each in x:\n",
    "    X_train, X_test, y_train, y_test = test_train(data, ratings2, loadstring, each)\n",
    "    LR = models[each]\n",
    "    X_train = CV.fit_transform(X_train)\n",
    "    X_test = CV.transform(X_test)\n",
    "    for every in x:\n",
    "        LR = models[each]\n",
    "        LR, CV = l.predict_untrained_scores(data[key], ratings[key], CV, LR, i, key, savestring, features)\n",
    "        print()"
   ]
  },
  {
   "cell_type": "code",
   "execution_count": null,
   "metadata": {
    "collapsed": false
   },
   "outputs": [],
   "source": []
  },
  {
   "cell_type": "code",
   "execution_count": null,
   "metadata": {
    "collapsed": true
   },
   "outputs": [],
   "source": []
  },
  {
   "cell_type": "code",
   "execution_count": null,
   "metadata": {
    "collapsed": false
   },
   "outputs": [],
   "source": []
  },
  {
   "cell_type": "code",
   "execution_count": null,
   "metadata": {
    "collapsed": false
   },
   "outputs": [],
   "source": []
  },
  {
   "cell_type": "code",
   "execution_count": null,
   "metadata": {
    "collapsed": false
   },
   "outputs": [],
   "source": []
  },
  {
   "cell_type": "code",
   "execution_count": null,
   "metadata": {
    "collapsed": true
   },
   "outputs": [],
   "source": []
  },
  {
   "cell_type": "code",
   "execution_count": null,
   "metadata": {
    "collapsed": true
   },
   "outputs": [],
   "source": []
  },
  {
   "cell_type": "code",
   "execution_count": null,
   "metadata": {
    "collapsed": true
   },
   "outputs": [],
   "source": []
  },
  {
   "cell_type": "code",
   "execution_count": null,
   "metadata": {
    "collapsed": true
   },
   "outputs": [],
   "source": []
  }
 ],
 "metadata": {
  "anaconda-cloud": {},
  "kernelspec": {
   "display_name": "Python [default]",
   "language": "python",
   "name": "python3"
  },
  "language_info": {
   "codemirror_mode": {
    "name": "ipython",
    "version": 3
   },
   "file_extension": ".py",
   "mimetype": "text/x-python",
   "name": "python",
   "nbconvert_exporter": "python",
   "pygments_lexer": "ipython3",
   "version": "3.5.2"
  }
 },
 "nbformat": 4,
 "nbformat_minor": 1
}
