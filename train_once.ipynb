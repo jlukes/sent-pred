{
 "cells": [
  {
   "cell_type": "code",
   "execution_count": 1,
   "metadata": {
    "collapsed": true
   },
   "outputs": [],
   "source": [
    "import library as l\n",
    "\n",
    "import numpy as np\n",
    "import pandas as pd\n",
    "import copy\n",
    "import matplotlib.pyplot as plt\n",
    "import datetime\n",
    "import os\n",
    "\n",
    "from sklearn.feature_extraction.text import CountVectorizer\n",
    "from sklearn.linear_model import LogisticRegression"
   ]
  },
  {
   "cell_type": "code",
   "execution_count": 10,
   "metadata": {
    "collapsed": false
   },
   "outputs": [],
   "source": [
    "'''#loadstring = 'seed_1519_size_20000_topsize_300_date_2018-04-12'\n",
    "loadstring = 'seed_39169_size_40000_topsize_300_date_2018-04-12'\n",
    "\n",
    "models = {}\n",
    "for i, model in enumerate(['/LR_' + str(2001+x) + '.data' for x in range(14)]):\n",
    "    models[i+1] = l.load_file(loadstring + model)\n",
    "\n",
    "top_f = l.load_file(loadstring + '/top_f.data')\n",
    "bot_f = l.load_file(loadstring + '/top_f.data')\n",
    "CV = l.load_file(loadstring + '/CV_2001.data')\n",
    "indices = l.load_file(loadstring + '/indices.data')\n",
    "ratings = l.load_file(loadstring + '/ratings.data')\n",
    "seen = l.load_file(loadstring + '/seen.data')\n",
    "test_idx = l.load_file(loadstring + '/test_idx.data')\n",
    "train_idx = l.load_file(loadstring + '/train_idx.data')\n",
    "features = list(CV.get_feature_names())\n",
    "print(len(features))'''\n",
    "\n",
    "loadstring = []\n",
    "loadstring.append('seed_6676_size_40000_topsize_300_date_2018-04-23')\n",
    "loadstring.append('seed_15320_size_40000_topsize_300_date_2018-05-04')\n",
    "loadstring.append('seed_39729_size_40000_topsize_300_date_2018-05-04')\n",
    "\n",
    "loop = range(len(loadstring))\n",
    "\n",
    "start_year = 2001\n",
    "end_year = 2014\n",
    "\n",
    "main = {}\n",
    "\n",
    "for j, lstr in enumerate(loadstring):\n",
    "    main[j] = {}\n",
    "\n",
    "    main[j]['models'] = {}\n",
    "    for i, model in enumerate(['/LR_' + str(start_year+x) + '.data' for x in range(end_year - start_year + 1)]):\n",
    "        main[j]['models'][i+1] = l.load_file(lstr + model)\n",
    "\n",
    "    main[j]['test_idx'] = {}\n",
    "    for i, indx in enumerate(['/test_idx_' + str(start_year+x) + '.data' for x in range(end_year - start_year + 1)]):\n",
    "        main[j]['test_idx'][i+1] = l.load_file(lstr + indx)\n",
    "\n",
    "    main[j]['train_idx'] = {}\n",
    "    for i, indx in enumerate(['/train_idx_' + str(start_year+x) + '.data' for x in range(end_year - start_year + 1)]):\n",
    "        main[j]['train_idx'][i+1] = l.load_file(lstr + indx)\n",
    "\n",
    "    main[j]['top_f'] = l.load_file(lstr + '/top_f.data')\n",
    "    main[j]['bot_f'] = l.load_file(lstr + '/top_f.data')\n",
    "    main[j]['CV'] = l.load_file(lstr + '/CV_2001.data')\n",
    "    main[j]['indices'] = l.load_file(lstr + '/indices.data')\n",
    "    main[j]['ratings'] = l.load_file(lstr + '/ratings.data')\n",
    "    main[j]['seen'] = l.load_file(lstr + '/seen.data')\n",
    "    main[j]['features'] = list(main[j]['CV'].get_feature_names())"
   ]
  },
  {
   "cell_type": "code",
   "execution_count": 11,
   "metadata": {
    "collapsed": false
   },
   "outputs": [],
   "source": [
    "from collections import defaultdict\n",
    "import json\n",
    "\n",
    "def load_previous_data(indices, file='aggressive_dedup.json'):\n",
    "    data = defaultdict(list)\n",
    "    time = defaultdict(list)\n",
    "    #ratings = defaultdict(list)\n",
    "    \n",
    "    idx = sorted([item for sublist in indices.values() for item in sublist])\n",
    "    x = sorted(list(indices.keys()))\n",
    "    for yr in x:\n",
    "        data[yr] = list(np.zeros(len(indices[yr])))\n",
    "        time[yr] = list(np.zeros(len(indices[yr])))\n",
    "        #ratings[yr] = list(np.zeros(len(indices[yr])))\n",
    "    with open(file) as infile:\n",
    "        i = 0\n",
    "        for line in infile:\n",
    "            if i == idx[0]:\n",
    "                idx.pop(0)\n",
    "                x = json.loads(line)\n",
    "                yr = x['reviewTime'][-4:]\n",
    "                j = indices[yr].index(i)\n",
    "                data[yr][j] = x.get('reviewText')\n",
    "                time[yr][j] = x.get('reviewTime')\n",
    "                #ratings[yr][j] = int(x.get('overall'))    \n",
    "            i += 1\n",
    "            if len(idx) == 0:\n",
    "                break\n",
    "    \n",
    "    return data, time#, ratings"
   ]
  },
  {
   "cell_type": "code",
   "execution_count": 12,
   "metadata": {
    "collapsed": false
   },
   "outputs": [],
   "source": [
    "for z in loop:\n",
    "    main[z]['data'], main[z]['time'] = load_previous_data(main[z]['indices'])\n",
    "    #l.simplify_ratings(main[z]['data'], main[z]['ratings'])"
   ]
  },
  {
   "cell_type": "code",
   "execution_count": 39,
   "metadata": {
    "collapsed": false
   },
   "outputs": [
    {
     "data": {
      "text/plain": [
       "dict_keys(['2011', 1, '2008', 0, '2014', '2009', '2013', '2004', '2003', '2007', '2002', '2012', '2010', '2005', '2001', '2006'])"
      ]
     },
     "execution_count": 39,
     "metadata": {},
     "output_type": "execute_result"
    }
   ],
   "source": [
    "main[z]['data'].keys()"
   ]
  },
  {
   "cell_type": "code",
   "execution_count": 40,
   "metadata": {
    "collapsed": false
   },
   "outputs": [
    {
     "data": {
      "text/plain": [
       "dict_keys(['2011', '2008', '2003', '2009', '2004', '2006', '2014', '2007', '2002', '2012', '2010', '2005', '2001', '2013'])"
      ]
     },
     "execution_count": 40,
     "metadata": {},
     "output_type": "execute_result"
    }
   ],
   "source": [
    "main[z]['ratings'].keys()"
   ]
  },
  {
   "cell_type": "code",
   "execution_count": null,
   "metadata": {
    "collapsed": false,
    "scrolled": true
   },
   "outputs": [],
   "source": []
  },
  {
   "cell_type": "code",
   "execution_count": null,
   "metadata": {
    "collapsed": false
   },
   "outputs": [],
   "source": []
  },
  {
   "cell_type": "code",
   "execution_count": 54,
   "metadata": {
    "collapsed": false,
    "scrolled": false
   },
   "outputs": [
    {
     "name": "stdout",
     "output_type": "stream",
     "text": [
      "Trained on: 2001  Scored on: 2001    acc:  0.879625\n",
      "Trained on: 2001  Scored on: 2002    acc:  0.875375\n",
      "Trained on: 2001  Scored on: 2003    acc:  0.863375\n",
      "Trained on: 2001  Scored on: 2004    acc:  0.855125\n",
      "Trained on: 2001  Scored on: 2005    acc:  0.854875\n",
      "Trained on: 2001  Scored on: 2006    acc:  0.862625\n",
      "Trained on: 2001  Scored on: 2007    acc:  0.859\n",
      "Trained on: 2001  Scored on: 2008    acc:  0.8485\n",
      "Trained on: 2001  Scored on: 2009    acc:  0.85375\n",
      "Trained on: 2001  Scored on: 2010    acc:  0.843875\n",
      "Trained on: 2001  Scored on: 2011    acc:  0.834875\n",
      "Trained on: 2001  Scored on: 2012    acc:  0.861125\n",
      "Trained on: 2001  Scored on: 2013    acc:  0.858125\n",
      "Trained on: 2001  Scored on: 2014    acc:  0.85075\n",
      "\n",
      "Trained on: 2001  Scored on: 2001    acc:  0.8785\n",
      "Trained on: 2001  Scored on: 2002    acc:  0.8775\n",
      "Trained on: 2001  Scored on: 2003    acc:  0.86625\n",
      "Trained on: 2001  Scored on: 2004    acc:  0.854875\n",
      "Trained on: 2001  Scored on: 2005    acc:  0.856375\n",
      "Trained on: 2001  Scored on: 2006    acc:  0.8545\n",
      "Trained on: 2001  Scored on: 2007    acc:  0.856125\n",
      "Trained on: 2001  Scored on: 2008    acc:  0.849875\n",
      "Trained on: 2001  Scored on: 2009    acc:  0.852125\n",
      "Trained on: 2001  Scored on: 2010    acc:  0.84925\n",
      "Trained on: 2001  Scored on: 2011    acc:  0.84325\n",
      "Trained on: 2001  Scored on: 2012    acc:  0.86025\n",
      "Trained on: 2001  Scored on: 2013    acc:  0.860125\n",
      "Trained on: 2001  Scored on: 2014    acc:  0.85425\n",
      "\n",
      "Trained on: 2001  Scored on: 2001    acc:  0.873125\n",
      "Trained on: 2001  Scored on: 2002    acc:  0.872\n",
      "Trained on: 2001  Scored on: 2003    acc:  0.864375\n",
      "Trained on: 2001  Scored on: 2004    acc:  0.85275\n",
      "Trained on: 2001  Scored on: 2005    acc:  0.84825\n",
      "Trained on: 2001  Scored on: 2006    acc:  0.857\n",
      "Trained on: 2001  Scored on: 2007    acc:  0.86575\n",
      "Trained on: 2001  Scored on: 2008    acc:  0.8535\n",
      "Trained on: 2001  Scored on: 2009    acc:  0.849375\n",
      "Trained on: 2001  Scored on: 2010    acc:  0.8505\n",
      "Trained on: 2001  Scored on: 2011    acc:  0.841625\n",
      "Trained on: 2001  Scored on: 2012    acc:  0.851375\n",
      "Trained on: 2001  Scored on: 2013    acc:  0.854875\n",
      "Trained on: 2001  Scored on: 2014    acc:  0.84525\n",
      "\n",
      "Trained on: 2002  Scored on: 2002    acc:  0.867625\n",
      "Trained on: 2002  Scored on: 2003    acc:  0.862125\n",
      "Trained on: 2002  Scored on: 2004    acc:  0.857375\n",
      "Trained on: 2002  Scored on: 2005    acc:  0.852625\n"
     ]
    },
    {
     "ename": "MemoryError",
     "evalue": "",
     "output_type": "error",
     "traceback": [
      "\u001b[0;31m---------------------------------------------------------------------------\u001b[0m",
      "\u001b[0;31mMemoryError\u001b[0m                               Traceback (most recent call last)",
      "\u001b[0;32m<ipython-input-54-f7db5f508771>\u001b[0m in \u001b[0;36m<module>\u001b[0;34m()\u001b[0m\n\u001b[1;32m     25\u001b[0m             \u001b[1;31m#X_train, X_test = arr[main[z]['train_idx'][every]], arr[main[z]['test_idx'][every]]\u001b[0m\u001b[1;33m\u001b[0m\u001b[1;33m\u001b[0m\u001b[0m\n\u001b[1;32m     26\u001b[0m \u001b[1;33m\u001b[0m\u001b[0m\n\u001b[0;32m---> 27\u001b[0;31m             \u001b[0mX_test\u001b[0m \u001b[1;33m=\u001b[0m \u001b[0mnp\u001b[0m\u001b[1;33m.\u001b[0m\u001b[0marray\u001b[0m\u001b[1;33m(\u001b[0m\u001b[0mmain\u001b[0m\u001b[1;33m[\u001b[0m\u001b[0mz\u001b[0m\u001b[1;33m]\u001b[0m\u001b[1;33m[\u001b[0m\u001b[1;34m'data'\u001b[0m\u001b[1;33m]\u001b[0m\u001b[1;33m[\u001b[0m\u001b[0mstr\u001b[0m\u001b[1;33m(\u001b[0m\u001b[1;36m2000\u001b[0m \u001b[1;33m+\u001b[0m \u001b[0mevery\u001b[0m\u001b[1;33m)\u001b[0m\u001b[1;33m]\u001b[0m\u001b[1;33m)\u001b[0m\u001b[1;33m[\u001b[0m\u001b[0mmain\u001b[0m\u001b[1;33m[\u001b[0m\u001b[0mz\u001b[0m\u001b[1;33m]\u001b[0m\u001b[1;33m[\u001b[0m\u001b[1;34m'test_idx'\u001b[0m\u001b[1;33m]\u001b[0m\u001b[1;33m[\u001b[0m\u001b[0mevery\u001b[0m\u001b[1;33m]\u001b[0m\u001b[1;33m]\u001b[0m\u001b[1;33m\u001b[0m\u001b[0m\n\u001b[0m\u001b[1;32m     28\u001b[0m \u001b[1;33m\u001b[0m\u001b[0m\n\u001b[1;32m     29\u001b[0m             \u001b[1;31m#arr = np.array(main[z]['ratings'][str(2000 + every)])\u001b[0m\u001b[1;33m\u001b[0m\u001b[1;33m\u001b[0m\u001b[0m\n",
      "\u001b[0;31mMemoryError\u001b[0m: "
     ]
    }
   ],
   "source": [
    "x = sorted(main[0]['models'].keys())\n",
    "\n",
    "results = []\n",
    "\n",
    "\n",
    "for i, each in enumerate(x):\n",
    "    for z in loop:\n",
    "        #arr = np.array(main[z]['data'][str(2000 + each)])\n",
    "        #X_train, X_test = arr[main[z]['train_idx'][each]], arr[main[z]['test_idx'][each]]\n",
    "        \n",
    "        X_test = np.array(main[z]['data'][str(2000 + each)])[main[z]['test_idx'][each]]\n",
    "        \n",
    "        #arr = np.array(main[z]['ratings'][str(2000 + each)])\n",
    "        #y_train, y_test = arr[main[z]['train_idx'][each]], arr[main[z]['test_idx'][each]]\n",
    "        \n",
    "        #X_train = main[z]['CV'].transform(X_train)\n",
    "        \n",
    "        X_test = main[z]['CV'].transform(X_test)\n",
    "        y_test = np.array(main[z]['ratings'][str(2000 + each)])[main[z]['test_idx'][each]]\n",
    "\n",
    "        print('Trained on: ' + str(2000 + each) + '  Scored on: ' + str(2000 + each) + '    acc: ', main[z]['models'][each].score(X_test, y_test))\n",
    "        \n",
    "        for every in x[i+1:]:\n",
    "            #arr = np.array(main[z]['data'][str(2000 + every)])\n",
    "            #X_train, X_test = arr[main[z]['train_idx'][every]], arr[main[z]['test_idx'][every]]\n",
    "            \n",
    "            X_test = np.array(main[z]['data'][str(2000 + every)])[main[z]['test_idx'][every]]\n",
    "            \n",
    "            #arr = np.array(main[z]['ratings'][str(2000 + every)])\n",
    "            #y_train, y_test = arr[main[z]['train_idx'][every]], arr[main[z]['test_idx'][every]]\n",
    "\n",
    "            #X_train = main[z]['CV'].transform(X_train)\n",
    "            X_test = main[z]['CV'].transform(X_test)\n",
    "            y_test = np.array(main[z]['ratings'][str(2000 + every)])[main[z]['test_idx'][every]]\n",
    "            \n",
    "            print('Trained on: ' + str(2000 + each) + '  Scored on: ' + str(2000 + every) + '    acc: ', main[z]['models'][each].score(X_test, y_test))\n",
    "        print()\n",
    "    if i == len(x) - 2:\n",
    "        break"
   ]
  },
  {
   "cell_type": "code",
   "execution_count": null,
   "metadata": {
    "collapsed": false
   },
   "outputs": [],
   "source": []
  },
  {
   "cell_type": "code",
   "execution_count": null,
   "metadata": {
    "collapsed": false
   },
   "outputs": [],
   "source": []
  },
  {
   "cell_type": "code",
   "execution_count": null,
   "metadata": {
    "collapsed": false
   },
   "outputs": [],
   "source": []
  },
  {
   "cell_type": "code",
   "execution_count": null,
   "metadata": {
    "collapsed": false
   },
   "outputs": [],
   "source": []
  },
  {
   "cell_type": "code",
   "execution_count": null,
   "metadata": {
    "collapsed": false
   },
   "outputs": [],
   "source": []
  },
  {
   "cell_type": "code",
   "execution_count": null,
   "metadata": {
    "collapsed": true
   },
   "outputs": [],
   "source": []
  },
  {
   "cell_type": "code",
   "execution_count": null,
   "metadata": {
    "collapsed": true
   },
   "outputs": [],
   "source": []
  },
  {
   "cell_type": "code",
   "execution_count": null,
   "metadata": {
    "collapsed": true
   },
   "outputs": [],
   "source": []
  },
  {
   "cell_type": "code",
   "execution_count": null,
   "metadata": {
    "collapsed": true
   },
   "outputs": [],
   "source": []
  }
 ],
 "metadata": {
  "anaconda-cloud": {},
  "kernelspec": {
   "display_name": "Python [default]",
   "language": "python",
   "name": "python3"
  },
  "language_info": {
   "codemirror_mode": {
    "name": "ipython",
    "version": 3
   },
   "file_extension": ".py",
   "mimetype": "text/x-python",
   "name": "python",
   "nbconvert_exporter": "python",
   "pygments_lexer": "ipython3",
   "version": "3.5.2"
  }
 },
 "nbformat": 4,
 "nbformat_minor": 1
}
