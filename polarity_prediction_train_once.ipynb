{
 "cells": [
  {
   "cell_type": "code",
   "execution_count": 118,
   "metadata": {
    "collapsed": true
   },
   "outputs": [],
   "source": [
    "import library as l\n",
    "\n",
    "import numpy as np\n",
    "import pandas as pd\n",
    "import copy\n",
    "import matplotlib.pyplot as plt\n",
    "import matplotlib.patches as mpatches\n",
    "import datetime\n",
    "import os\n",
    "\n",
    "from sklearn.feature_extraction.text import CountVectorizer\n",
    "from sklearn.linear_model import LogisticRegression"
   ]
  },
  {
   "cell_type": "code",
   "execution_count": 2,
   "metadata": {
    "collapsed": false
   },
   "outputs": [],
   "source": [
    "'''#loadstring = 'seed_1519_size_20000_topsize_300_date_2018-04-12'\n",
    "loadstring = 'seed_39169_size_40000_topsize_300_date_2018-04-12'\n",
    "\n",
    "models = {}\n",
    "for i, model in enumerate(['/LR_' + str(2001+x) + '.data' for x in range(14)]):\n",
    "    models[i+1] = l.load_file(loadstring + model)\n",
    "\n",
    "top_f = l.load_file(loadstring + '/top_f.data')\n",
    "bot_f = l.load_file(loadstring + '/top_f.data')\n",
    "CV = l.load_file(loadstring + '/CV_2001.data')\n",
    "indices = l.load_file(loadstring + '/indices.data')\n",
    "ratings = l.load_file(loadstring + '/ratings.data')\n",
    "seen = l.load_file(loadstring + '/seen.data')\n",
    "test_idx = l.load_file(loadstring + '/test_idx.data')\n",
    "train_idx = l.load_file(loadstring + '/train_idx.data')\n",
    "features = list(CV.get_feature_names())\n",
    "print(len(features))'''\n",
    "\n",
    "loadstring = []\n",
    "loadstring.append('seed_1828_size_40000_topsize_300_date_2018-05-18')\n",
    "loadstring.append('seed_16376_size_40000_topsize_300_date_2018-05-18')\n",
    "loadstring.append('seed_23662_size_40000_topsize_300_date_2018-05-18')\n",
    "\n",
    "loop = range(len(loadstring))\n",
    "\n",
    "start_year = 2001\n",
    "end_year = 2014\n",
    "\n",
    "main = {}\n",
    "\n",
    "for j, lstr in enumerate(loadstring):\n",
    "    main[j] = {}\n",
    "\n",
    "    main[j]['models'] = {}\n",
    "    for i, model in enumerate(['/LR_' + str(start_year+x) + '.data' for x in range(end_year - start_year + 1)]):\n",
    "        main[j]['models'][i+1] = l.load_file(lstr + model)\n",
    "\n",
    "    main[j]['test_idx'] = {}\n",
    "    for i, indx in enumerate(['/test_idx_' + str(start_year+x) + '.data' for x in range(end_year - start_year + 1)]):\n",
    "        main[j]['test_idx'][i+1] = l.load_file(lstr + indx)\n",
    "\n",
    "    main[j]['train_idx'] = {}\n",
    "    for i, indx in enumerate(['/train_idx_' + str(start_year+x) + '.data' for x in range(end_year - start_year + 1)]):\n",
    "        main[j]['train_idx'][i+1] = l.load_file(lstr + indx)\n",
    "\n",
    "    main[j]['top_f'] = l.load_file(lstr + '/top_f.data')\n",
    "    main[j]['bot_f'] = l.load_file(lstr + '/top_f.data')\n",
    "    main[j]['CV'] = l.load_file(lstr + '/CV_2001.data')\n",
    "    main[j]['indices'] = l.load_file(lstr + '/indices.data')\n",
    "    main[j]['ratings'] = l.load_file(lstr + '/ratings.data')\n",
    "    main[j]['seen'] = l.load_file(lstr + '/seen.data')\n",
    "    main[j]['features'] = list(main[j]['CV'].get_feature_names())"
   ]
  },
  {
   "cell_type": "code",
   "execution_count": 3,
   "metadata": {
    "collapsed": false
   },
   "outputs": [],
   "source": [
    "from collections import defaultdict\n",
    "import json\n",
    "\n",
    "def load_previous_data(indices, file='aggressive_dedup.json'):\n",
    "    data = defaultdict(list)\n",
    "    time = defaultdict(list)\n",
    "    #ratings = defaultdict(list)\n",
    "    \n",
    "    idx = sorted([item for sublist in indices.values() for item in sublist])\n",
    "    x = sorted(list(indices.keys()))\n",
    "    for yr in x:\n",
    "        data[yr] = list(np.zeros(len(indices[yr])))\n",
    "        time[yr] = list(np.zeros(len(indices[yr])))\n",
    "        #ratings[yr] = list(np.zeros(len(indices[yr])))\n",
    "    with open(file) as infile:\n",
    "        i = 0\n",
    "        for line in infile:\n",
    "            if i == idx[0]:\n",
    "                idx.pop(0)\n",
    "                x = json.loads(line)\n",
    "                yr = x['reviewTime'][-4:]\n",
    "                j = indices[yr].index(i)\n",
    "                data[yr][j] = x.get('reviewText')\n",
    "                time[yr][j] = x.get('reviewTime')\n",
    "                #ratings[yr][j] = int(x.get('overall'))    \n",
    "            i += 1\n",
    "            if len(idx) == 0:\n",
    "                break\n",
    "    \n",
    "    return data, time#, ratings"
   ]
  },
  {
   "cell_type": "code",
   "execution_count": 4,
   "metadata": {
    "collapsed": false
   },
   "outputs": [],
   "source": [
    "for z in loop:\n",
    "    main[z]['data'], main[z]['time'] = load_previous_data(main[z]['indices'])\n",
    "    #l.simplify_ratings(main[z]['data'], main[z]['ratings'])"
   ]
  },
  {
   "cell_type": "code",
   "execution_count": 5,
   "metadata": {
    "collapsed": false
   },
   "outputs": [
    {
     "data": {
      "text/plain": [
       "dict_keys(['2012', '2011', '2006', '2002', '2007', '2005', '2014', '2003', '2009', '2001', '2010', '2008', '2013', '2004'])"
      ]
     },
     "execution_count": 5,
     "metadata": {},
     "output_type": "execute_result"
    }
   ],
   "source": [
    "main[z]['data'].keys()"
   ]
  },
  {
   "cell_type": "code",
   "execution_count": 6,
   "metadata": {
    "collapsed": false
   },
   "outputs": [
    {
     "data": {
      "text/plain": [
       "dict_keys(['2012', '2011', '2006', '2002', '2007', '2005', '2014', '2003', '2009', '2001', '2010', '2008', '2013', '2004'])"
      ]
     },
     "execution_count": 6,
     "metadata": {},
     "output_type": "execute_result"
    }
   ],
   "source": [
    "main[z]['ratings'].keys()"
   ]
  },
  {
   "cell_type": "code",
   "execution_count": null,
   "metadata": {
    "collapsed": false,
    "scrolled": true
   },
   "outputs": [],
   "source": []
  },
  {
   "cell_type": "code",
   "execution_count": null,
   "metadata": {
    "collapsed": false
   },
   "outputs": [],
   "source": []
  },
  {
   "cell_type": "code",
   "execution_count": 9,
   "metadata": {
    "collapsed": false,
    "scrolled": false
   },
   "outputs": [
    {
     "name": "stdout",
     "output_type": "stream",
     "text": [
      "Trained on: 2001  Scored on: 2012    acc:  0.848625\n",
      "Trained on: 2001  Scored on: 2013    acc:  0.845375\n",
      "Trained on: 2001  Scored on: 2014    acc:  0.8435\n",
      "\n",
      "Trained on: 2001  Scored on: 2012    acc:  0.84125\n",
      "Trained on: 2001  Scored on: 2013    acc:  0.84425\n",
      "Trained on: 2001  Scored on: 2014    acc:  0.840875\n",
      "\n",
      "Trained on: 2001  Scored on: 2012    acc:  0.840375\n",
      "Trained on: 2001  Scored on: 2013    acc:  0.8485\n",
      "Trained on: 2001  Scored on: 2014    acc:  0.838625\n",
      "\n",
      "Trained on: 2002  Scored on: 2012    acc:  0.8485\n",
      "Trained on: 2002  Scored on: 2013    acc:  0.8465\n",
      "Trained on: 2002  Scored on: 2014    acc:  0.842375\n",
      "\n",
      "Trained on: 2002  Scored on: 2012    acc:  0.846125\n",
      "Trained on: 2002  Scored on: 2013    acc:  0.8455\n",
      "Trained on: 2002  Scored on: 2014    acc:  0.841\n",
      "\n",
      "Trained on: 2002  Scored on: 2012    acc:  0.848125\n",
      "Trained on: 2002  Scored on: 2013    acc:  0.85175\n",
      "Trained on: 2002  Scored on: 2014    acc:  0.846375\n",
      "\n",
      "Trained on: 2003  Scored on: 2012    acc:  0.850375\n",
      "Trained on: 2003  Scored on: 2013    acc:  0.84525\n",
      "Trained on: 2003  Scored on: 2014    acc:  0.847375\n",
      "\n",
      "Trained on: 2003  Scored on: 2012    acc:  0.844625\n",
      "Trained on: 2003  Scored on: 2013    acc:  0.844125\n",
      "Trained on: 2003  Scored on: 2014    acc:  0.847\n",
      "\n",
      "Trained on: 2003  Scored on: 2012    acc:  0.84125\n",
      "Trained on: 2003  Scored on: 2013    acc:  0.849625\n",
      "Trained on: 2003  Scored on: 2014    acc:  0.84325\n",
      "\n",
      "Trained on: 2004  Scored on: 2012    acc:  0.850125\n",
      "Trained on: 2004  Scored on: 2013    acc:  0.847125\n",
      "Trained on: 2004  Scored on: 2014    acc:  0.84375\n",
      "\n",
      "Trained on: 2004  Scored on: 2012    acc:  0.83975\n",
      "Trained on: 2004  Scored on: 2013    acc:  0.83625\n",
      "Trained on: 2004  Scored on: 2014    acc:  0.836125\n",
      "\n",
      "Trained on: 2004  Scored on: 2012    acc:  0.837375\n",
      "Trained on: 2004  Scored on: 2013    acc:  0.837375\n",
      "Trained on: 2004  Scored on: 2014    acc:  0.84175\n",
      "\n"
     ]
    }
   ],
   "source": [
    "x = sorted(main[0]['models'].keys())\n",
    "\n",
    "results = []\n",
    "\n",
    "\n",
    "for i, each in enumerate(x[:4]):\n",
    "    tempo = []\n",
    "    for z in loop:\n",
    "        temp = []\n",
    "        '''        \n",
    "        X_test = np.array(main[z]['data'][str(2000 + each)])[main[z]['test_idx'][each]]\n",
    "        \n",
    "        X_test = main[z]['CV'].transform(X_test)\n",
    "        y_test = np.array(main[z]['ratings'][str(2000 + each)])[main[z]['test_idx'][each]]\n",
    "        \n",
    "        temp.append(main[z]['models'][each].score(X_test, y_test))\n",
    "\n",
    "        print('Trained on: ' + str(2000 + each) + '  Scored on: ' + str(2000 + each) + '    acc: ', temp[-1])'''\n",
    "        \n",
    "        for every in x[-3:]:\n",
    "            \n",
    "            X_test = np.array(main[z]['data'][str(2000 + every)])[main[z]['test_idx'][every]]\n",
    "            \n",
    "            X_test = main[z]['CV'].transform(X_test)\n",
    "            y_test = np.array(main[z]['ratings'][str(2000 + every)])[main[z]['test_idx'][every]]\n",
    "            \n",
    "            temp.append(main[z]['models'][each].score(X_test, y_test))\n",
    "            \n",
    "            print('Trained on: ' + str(2000 + each) + '  Scored on: ' + str(2000 + every) + '    acc: ', temp[-1])\n",
    "        print()\n",
    "        tempo.append(temp)\n",
    "    results.append(tempo)\n",
    "    if i == len(x) - 2:\n",
    "        break"
   ]
  },
  {
   "cell_type": "code",
   "execution_count": 62,
   "metadata": {
    "collapsed": false
   },
   "outputs": [
    {
     "name": "stdout",
     "output_type": "stream",
     "text": [
      "Trained on: 2008  Scored on: 2012    acc:  0.85325\n",
      "Trained on: 2008  Scored on: 2013    acc:  0.856625\n",
      "Trained on: 2008  Scored on: 2014    acc:  0.85325\n",
      "\n",
      "Trained on: 2008  Scored on: 2012    acc:  0.8535\n",
      "Trained on: 2008  Scored on: 2013    acc:  0.8575\n",
      "Trained on: 2008  Scored on: 2014    acc:  0.8565\n",
      "\n",
      "Trained on: 2008  Scored on: 2012    acc:  0.849625\n",
      "Trained on: 2008  Scored on: 2013    acc:  0.859\n",
      "Trained on: 2008  Scored on: 2014    acc:  0.856625\n",
      "\n",
      "Trained on: 2009  Scored on: 2012    acc:  0.858\n",
      "Trained on: 2009  Scored on: 2013    acc:  0.854625\n",
      "Trained on: 2009  Scored on: 2014    acc:  0.85525\n",
      "\n",
      "Trained on: 2009  Scored on: 2012    acc:  0.857125\n",
      "Trained on: 2009  Scored on: 2013    acc:  0.859625\n",
      "Trained on: 2009  Scored on: 2014    acc:  0.855\n",
      "\n",
      "Trained on: 2009  Scored on: 2012    acc:  0.84725\n",
      "Trained on: 2009  Scored on: 2013    acc:  0.857875\n",
      "Trained on: 2009  Scored on: 2014    acc:  0.857\n",
      "\n",
      "Trained on: 2010  Scored on: 2012    acc:  0.854375\n",
      "Trained on: 2010  Scored on: 2013    acc:  0.853875\n",
      "Trained on: 2010  Scored on: 2014    acc:  0.852625\n",
      "\n",
      "Trained on: 2010  Scored on: 2012    acc:  0.85325\n",
      "Trained on: 2010  Scored on: 2013    acc:  0.86025\n",
      "Trained on: 2010  Scored on: 2014    acc:  0.863125\n",
      "\n",
      "Trained on: 2010  Scored on: 2012    acc:  0.857375\n",
      "Trained on: 2010  Scored on: 2013    acc:  0.867375\n",
      "Trained on: 2010  Scored on: 2014    acc:  0.870625\n",
      "\n",
      "Trained on: 2011  Scored on: 2012    acc:  0.85375\n",
      "Trained on: 2011  Scored on: 2013    acc:  0.857125\n",
      "Trained on: 2011  Scored on: 2014    acc:  0.85825\n",
      "\n",
      "Trained on: 2011  Scored on: 2012    acc:  0.845375\n",
      "Trained on: 2011  Scored on: 2013    acc:  0.851125\n",
      "Trained on: 2011  Scored on: 2014    acc:  0.852625\n",
      "\n",
      "Trained on: 2011  Scored on: 2012    acc:  0.856875\n",
      "Trained on: 2011  Scored on: 2013    acc:  0.86475\n",
      "Trained on: 2011  Scored on: 2014    acc:  0.865875\n",
      "\n"
     ]
    }
   ],
   "source": [
    "x = sorted(main[0]['models'].keys())\n",
    "\n",
    "results2 = []\n",
    "\n",
    "\n",
    "for i, each in enumerate(x[7:11]):\n",
    "    tempo = []\n",
    "    for z in loop:\n",
    "        temp = []\n",
    "        '''        \n",
    "        X_test = np.array(main[z]['data'][str(2000 + each)])[main[z]['test_idx'][each]]\n",
    "        \n",
    "        X_test = main[z]['CV'].transform(X_test)\n",
    "        y_test = np.array(main[z]['ratings'][str(2000 + each)])[main[z]['test_idx'][each]]\n",
    "        \n",
    "        temp.append(main[z]['models'][each].score(X_test, y_test))\n",
    "\n",
    "        print('Trained on: ' + str(2000 + each) + '  Scored on: ' + str(2000 + each) + '    acc: ', temp[-1])'''\n",
    "        \n",
    "        for every in x[-3:]:\n",
    "            \n",
    "            X_test = np.array(main[z]['data'][str(2000 + every)])[main[z]['test_idx'][every]]\n",
    "            \n",
    "            X_test = main[z]['CV'].transform(X_test)\n",
    "            y_test = np.array(main[z]['ratings'][str(2000 + every)])[main[z]['test_idx'][every]]\n",
    "            \n",
    "            temp.append(main[z]['models'][each].score(X_test, y_test))\n",
    "            \n",
    "            print('Trained on: ' + str(2000 + each) + '  Scored on: ' + str(2000 + every) + '    acc: ', temp[-1])\n",
    "        print()\n",
    "        tempo.append(temp)\n",
    "    results2.append(tempo)\n",
    "    if i == len(x) - 2:\n",
    "        break"
   ]
  },
  {
   "cell_type": "code",
   "execution_count": 12,
   "metadata": {
    "collapsed": false
   },
   "outputs": [],
   "source": [
    "#l.save_file('run_once_results.data', results)"
   ]
  },
  {
   "cell_type": "code",
   "execution_count": 10,
   "metadata": {
    "collapsed": false
   },
   "outputs": [],
   "source": [
    "#results = l.load_file('polarity_prediction_once_results.data')"
   ]
  },
  {
   "cell_type": "code",
   "execution_count": 78,
   "metadata": {
    "collapsed": false
   },
   "outputs": [],
   "source": [
    "averages = np.array(results).mean(axis=1)\n",
    "averages2 = np.array(results2).mean(axis=1)"
   ]
  },
  {
   "cell_type": "code",
   "execution_count": 79,
   "metadata": {
    "collapsed": false
   },
   "outputs": [
    {
     "data": {
      "text/plain": [
       "array([[0.00870833, 0.01166667, 0.01445833],\n",
       "       [0.00654167, 0.00945833, 0.0125    ],\n",
       "       [0.00958333, 0.01416667, 0.01625   ],\n",
       "       [0.00958333, 0.01741667, 0.018375  ]])"
      ]
     },
     "execution_count": 79,
     "metadata": {},
     "output_type": "execute_result"
    }
   ],
   "source": [
    "averages2 - averages"
   ]
  },
  {
   "cell_type": "code",
   "execution_count": 155,
   "metadata": {
    "collapsed": false
   },
   "outputs": [
    {
     "data": {
      "image/png": "[encoded data removed]",
      "text/plain": [
       "<matplotlib.figure.Figure at 0x242dbec0c18>"
      ]
     },
     "metadata": {},
     "output_type": "display_data"
    }
   ],
   "source": [
    "fig = plt.figure()\n",
    "ax = fig.add_subplot(111)\n",
    "\n",
    "ax.plot([range(2012,2015) for x in range(4)], averages, 'ro')\n",
    "ax.plot([range(2012,2015) for x in range(4)], averages2, 'go')\n",
    "\n",
    "red_patch = mpatches.Patch(color='r', label='Trained on: 2001-2004')\n",
    "green_patch = mpatches.Patch(color='g', label='Trained on: 2008-2011')\n",
    "ax.legend(handles=[red_patch, green_patch], fontsize='x-small', loc='upper right')\n",
    "\n",
    "ax.ticklabel_format(useOffset=False, style='plain')\n",
    "plt.xticks(range(2011,2016))\n",
    "\n",
    "ax.set_ylim(0.83,0.88)\n",
    "\n",
    "plt.xlabel('Tested on year')\n",
    "plt.ylabel('Mean accuracy')\n",
    "plt.title('Accuracy difference between \\'older\\' and \\'newer\\' models')\n",
    "plt.savefig('Accuracy_difference_of_old_and_new.jpeg', dpi=300)\n",
    "plt.show()"
   ]
  },
  {
   "cell_type": "code",
   "execution_count": null,
   "metadata": {
    "collapsed": false
   },
   "outputs": [],
   "source": []
  },
  {
   "cell_type": "code",
   "execution_count": null,
   "metadata": {
    "collapsed": false
   },
   "outputs": [],
   "source": []
  },
  {
   "cell_type": "code",
   "execution_count": null,
   "metadata": {
    "collapsed": true
   },
   "outputs": [],
   "source": []
  },
  {
   "cell_type": "code",
   "execution_count": null,
   "metadata": {
    "collapsed": true
   },
   "outputs": [],
   "source": []
  },
  {
   "cell_type": "code",
   "execution_count": null,
   "metadata": {
    "collapsed": true
   },
   "outputs": [],
   "source": []
  }
 ],
 "metadata": {
  "anaconda-cloud": {},
  "kernelspec": {
   "display_name": "Python [default]",
   "language": "python",
   "name": "python3"
  },
  "language_info": {
   "codemirror_mode": {
    "name": "ipython",
    "version": 3
   },
   "file_extension": ".py",
   "mimetype": "text/x-python",
   "name": "python",
   "nbconvert_exporter": "python",
   "pygments_lexer": "ipython3",
   "version": "3.5.2"
  }
 },
 "nbformat": 4,
 "nbformat_minor": 1
}
