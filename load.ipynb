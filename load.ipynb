{
 "cells": [
  {
   "cell_type": "code",
   "execution_count": 1,
   "metadata": {
    "collapsed": false
   },
   "outputs": [],
   "source": [
    "import numpy as np\n",
    "import pandas as pd\n",
    "import pickle\n",
    "\n",
    "import matplotlib.pyplot as plt\n",
    "\n",
    "import json\n",
    "import random\n",
    "from collections import defaultdict\n",
    "from collections import Counter\n",
    "from nltk.corpus import stopwords"
   ]
  },
  {
   "cell_type": "code",
   "execution_count": 2,
   "metadata": {
    "collapsed": false
   },
   "outputs": [
    {
     "name": "stdout",
     "output_type": "stream",
     "text": [
      "{'helpful': [0, 0], 'reviewTime': '11 21, 2012', 'unixReviewTime': 1353456000, 'reviewerID': 'A00000262KYZUE4J55XGL', 'reviewerName': 'Steven N Elich', 'overall': 5.0, 'summary': \"Does what it's supposed to do\", 'asin': 'B003UYU16G', 'reviewText': \"It is and does exactly what the description said it would be and would do. Couldn't be happier with it.\"}\n"
     ]
    }
   ],
   "source": [
    "file='aggressive_dedup.json'\n",
    "with open(file) as infile:\n",
    "    for line in infile:\n",
    "        data = json.loads(line)\n",
    "        print(data)\n",
    "        break"
   ]
  },
  {
   "cell_type": "code",
   "execution_count": 3,
   "metadata": {
    "collapsed": false
   },
   "outputs": [],
   "source": [
    "def get_data(file='aggressive_dedup.json', year='2001', limit=100000000, size=10000):\n",
    "    data = defaultdict(list)\n",
    "    time = defaultdict(list)\n",
    "    ratings = defaultdict(list)\n",
    "    seen = {}\n",
    "    \n",
    "    with open(file) as infile:\n",
    "        i = 0\n",
    "        for line in infile:\n",
    "            x = json.loads(line)\n",
    "            yr = x['reviewTime'][-4:]\n",
    "            rt = int(x.get('overall'))\n",
    "            if yr >= year:\n",
    "                if yr not in seen:\n",
    "                    seen[yr] = 1\n",
    "                else:\n",
    "                    seen[yr] += 1\n",
    "                if len(data[yr]) < size:\n",
    "                    data[yr].append(x.get('reviewText'))\n",
    "                    time[yr].append(x.get('reviewTime'))\n",
    "                    ratings[yr].append(rt)\n",
    "                else:\n",
    "                    if np.random.uniform() < size/seen[yr]:\n",
    "                        p = np.random.randint(size)\n",
    "                        data[yr][p] = x.get('reviewText')\n",
    "                        time[yr][p] = x.get('reviewTime')\n",
    "                        ratings[yr][p] = rt            \n",
    "            i += 1\n",
    "            if i > limit:\n",
    "                break\n",
    "    return data, time, ratings, seen\n",
    "\n",
    "def binarify(val):\n",
    "    if 4 > val:\n",
    "        return 0\n",
    "    else:\n",
    "        return 1\n",
    "\n",
    "def simplify_ratings(data, ratings):\n",
    "    keys = sorted(list(ratings.keys()))\n",
    "    for key in keys:\n",
    "        ratings[key] = [binarify(x) for x in ratings.get(key)]\n",
    "    return ratings\n",
    "\n",
    "def save_file(filename, data):\n",
    "    with open(filename, \"wb\") as fp:\n",
    "        pickle.dump(data, fp)\n",
    "\n",
    "def load_file(filename):\n",
    "    with open(filename, \"rb\") as fp:\n",
    "        data = pickle.load(fp)\n",
    "    return data"
   ]
  },
  {
   "cell_type": "code",
   "execution_count": 5,
   "metadata": {
    "collapsed": false
   },
   "outputs": [
    {
     "name": "stdout",
     "output_type": "stream",
     "text": [
      "2012 >>> 1000\n",
      "2005 >>> 1000\n",
      "2003 >>> 1000\n",
      "2007 >>> 1000\n",
      "2008 >>> 1000\n",
      "2011 >>> 1000\n",
      "2006 >>> 1000\n",
      "2010 >>> 1000\n",
      "2004 >>> 1000\n",
      "2002 >>> 1000\n",
      "2001 >>> 1000\n",
      "2014 >>> 1000\n",
      "2009 >>> 1000\n",
      "2013 >>> 1000\n"
     ]
    }
   ],
   "source": [
    "size = 40000\n",
    "data, time, ratings, seen = get_data(size=size)\n",
    "ratings_b = simplify_ratings(data, ratings)\n",
    "\n",
    "for key in data.keys():\n",
    "    print(key, '>>>', len(data[key]))"
   ]
  },
  {
   "cell_type": "code",
   "execution_count": 6,
   "metadata": {
    "collapsed": false
   },
   "outputs": [
    {
     "data": {
      "text/plain": [
       "\"print(data['2005'][0])\\ndata2 = stopwords_filter(data)\\nprint(data['2005'][0])\""
      ]
     },
     "execution_count": 6,
     "metadata": {},
     "output_type": "execute_result"
    }
   ],
   "source": [
    "def stopwords_filter(data):\n",
    "    stop_words = set(stopwords.words('english'))\n",
    "    x = sorted(list(data.keys()))\n",
    "    for key in x:\n",
    "        for i, m in enumerate(data[key]):\n",
    "            data[key][i] = ' '.join( (w for w in m.split() if w not in stop_words) )\n",
    "    return data\n",
    "\n",
    "\"\"\"print(data['2005'][0])\n",
    "data2 = stopwords_filter(data)\n",
    "print(data['2005'][0])\"\"\""
   ]
  },
  {
   "cell_type": "code",
   "execution_count": 7,
   "metadata": {
    "collapsed": false
   },
   "outputs": [
    {
     "name": "stdout",
     "output_type": "stream",
     "text": [
      "[ 0.18  0.82]\n",
      "[ 0.19  0.81]\n",
      "[ 0.22  0.78]\n",
      "[ 0.22  0.78]\n",
      "[ 0.25  0.75]\n",
      "[ 0.22  0.78]\n",
      "[ 0.22  0.78]\n",
      "[ 0.22  0.78]\n",
      "[ 0.25  0.75]\n",
      "[ 0.24  0.76]\n",
      "[ 0.23  0.77]\n",
      "[ 0.28  0.72]\n",
      "[ 0.21  0.79]\n",
      "[ 0.2  0.8]\n"
     ]
    }
   ],
   "source": [
    "x = sorted(list(data.keys()))\n",
    "for each in x:\n",
    "    print(np.round(np.array(list((Counter(ratings[each]).values())))/len(ratings[each]), 2))"
   ]
  },
  {
   "cell_type": "code",
   "execution_count": 8,
   "metadata": {
    "collapsed": false
   },
   "outputs": [],
   "source": [
    "from sklearn.feature_extraction.text import CountVectorizer\n",
    "from sklearn.linear_model import RandomizedLogisticRegression\n",
    "from sklearn.linear_model import LogisticRegression\n",
    "from sklearn.metrics import f1_score\n",
    "from sklearn.metrics import recall_score\n",
    "from sklearn.metrics import precision_score"
   ]
  },
  {
   "cell_type": "code",
   "execution_count": 9,
   "metadata": {
    "collapsed": true
   },
   "outputs": [],
   "source": [
    "LR = LogisticRegression(penalty='l1', n_jobs=-1, solver='saga', max_iter=300)\n",
    "#LR = LogisticRegression(penalty='l1', n_jobs=-1, solver='saga', max_iter=100, class_weight='balanced')\n",
    "\n",
    "CV = CountVectorizer(ngram_range=(1,2), analyzer='word')#, max_features=20000)\n",
    "\n",
    "features = []"
   ]
  },
  {
   "cell_type": "code",
   "execution_count": 10,
   "metadata": {
    "collapsed": false
   },
   "outputs": [],
   "source": [
    "def split_eighty_twenty(n):\n",
    "    indices = np.random.permutation(n)\n",
    "    threshold = int(np.floor(n*0.8))\n",
    "    return indices[:threshold], indices[threshold:]\n",
    "\n",
    "def test_train(data, ratings_b):\n",
    "    train_idx, test_idx = split_eighty_twenty(len(data))\n",
    "    X_train, X_test = np.array(data)[train_idx], np.array(data)[test_idx]\n",
    "    y_train, y_test = np.array(ratings_b)[train_idx], np.array(ratings_b)[test_idx]\n",
    "    return X_train, X_test, y_train, y_test\n",
    "\n",
    "def predict_scores(data, ratings_b, CV, LR, i):   \n",
    "    X_train, X_test, y_train, y_test = test_train(data, ratings_b)\n",
    "\n",
    "    if i == 0:\n",
    "        X_train = CV.fit_transform(X_train)\n",
    "        X_test = CV.transform(X_test)\n",
    "        features[:] = list(CV.get_feature_names())\n",
    "    else:\n",
    "        X_train = CV.transform(X_train)\n",
    "        X_test = CV.transform(X_test)\n",
    "\n",
    "    LR.fit(X_train,y_train)\n",
    "    y_pred = LR.predict(X_test)\n",
    "    print(LR.score(X_test, y_test))\n",
    "    print('f1:', f1_score(y_test, y_pred, pos_label=1, average=None))\n",
    "    print('recall:', recall_score(y_test, y_pred, pos_label=1, average=None))\n",
    "    print('precision:', precision_score(y_test, y_pred, pos_label=1, average=None))\n",
    "    print()\n",
    "    return LR, CV"
   ]
  },
  {
   "cell_type": "code",
   "execution_count": 11,
   "metadata": {
    "collapsed": false
   },
   "outputs": [
    {
     "name": "stderr",
     "output_type": "stream",
     "text": [
      "D:\\Program Files (x86)\\Anaconda\\lib\\site-packages\\sklearn\\linear_model\\sag.py:326: ConvergenceWarning: The max_iter was reached which means the coef_ did not converge\n",
      "  \"the coef_ did not converge\", ConvergenceWarning)\n"
     ]
    },
    {
     "name": "stdout",
     "output_type": "stream",
     "text": [
      "0.775\n",
      "f1: [ 0.32835821  0.86486486]\n",
      "recall: [ 0.30555556  0.87804878]\n",
      "precision: [ 0.35483871  0.85207101]\n",
      "\n",
      "0.8\n",
      "f1: [ 0.33333333  0.88235294]\n",
      "recall: [ 0.22727273  0.96153846]\n",
      "precision: [ 0.625       0.81521739]\n",
      "\n",
      "0.825\n",
      "f1: [ 0.42622951  0.89675516]\n",
      "recall: [ 0.39393939  0.91017964]\n",
      "precision: [ 0.46428571  0.88372093]\n",
      "\n",
      "0.79\n",
      "f1: [ 0.43243243  0.87116564]\n",
      "recall: [ 0.31372549  0.95302013]\n",
      "precision: [ 0.69565217  0.80225989]\n",
      "\n",
      "0.68\n",
      "f1: [ 0.33333333  0.78947368]\n",
      "recall: [ 0.25        0.88235294]\n",
      "precision: [ 0.5         0.71428571]\n",
      "\n",
      "0.805\n",
      "f1: [ 0.33898305  0.8856305 ]\n",
      "recall: [ 0.23809524  0.9556962 ]\n",
      "precision: [ 0.58823529  0.82513661]\n",
      "\n",
      "0.73\n",
      "f1: [ 0.20588235  0.8373494 ]\n",
      "recall: [ 0.15909091  0.89102564]\n",
      "precision: [ 0.29166667  0.78977273]\n",
      "\n",
      "0.76\n",
      "f1: [ 0.29411765  0.85542169]\n",
      "recall: [ 0.29411765  0.85542169]\n",
      "precision: [ 0.29411765  0.85542169]\n",
      "\n",
      "0.79\n",
      "f1: [ 0.475    0.86875]\n",
      "recall: [ 0.42222222  0.89677419]\n",
      "precision: [ 0.54285714  0.84242424]\n",
      "\n",
      "0.785\n",
      "f1: [ 0.51685393  0.86173633]\n",
      "recall: [ 0.42592593  0.91780822]\n",
      "precision: [ 0.65714286  0.81212121]\n",
      "\n",
      "0.8\n",
      "f1: [ 0.52380952  0.87341772]\n",
      "recall: [ 0.44897959  0.91390728]\n",
      "precision: [ 0.62857143  0.83636364]\n",
      "\n",
      "0.72\n",
      "f1: [ 0.34883721  0.82165605]\n",
      "recall: [ 0.27272727  0.88965517]\n",
      "precision: [ 0.48387097  0.76331361]\n",
      "\n",
      "0.795\n",
      "f1: [ 0.32786885  0.87905605]\n",
      "recall: [ 0.24390244  0.93710692]\n",
      "precision: [ 0.5         0.82777778]\n",
      "\n",
      "0.78\n",
      "f1: [ 0.48837209  0.85987261]\n",
      "recall: [ 0.42  0.9 ]\n",
      "precision: [ 0.58333333  0.82317073]\n",
      "\n"
     ]
    }
   ],
   "source": [
    "x = sorted(list(data.keys()))\n",
    "for i, key in enumerate(x):\n",
    "    LR, CV = predict_scores(data[key], ratings_b[key], CV, LR, i)\n",
    "    save_file('models/LR_' + str(key) + '_' + str(size) + '.model', LR)\n",
    "    if i == 0:\n",
    "        top_f = [[x,[len(features)-i]] for i, (_,x) in enumerate(sorted(zip(LR.coef_[0],features)))][:-300:-1]\n",
    "        bot_f = [[x,[i+1]] for i, (_,x) in enumerate(sorted(zip(LR.coef_[0],features)))][:300]\n",
    "    else:\n",
    "        for i, m in enumerate(top_f):\n",
    "            top_f[i][1] += [len(features)-i for i, (_,x) in enumerate(sorted(zip(LR.coef_[0],features))) if x == m[0]]\n",
    "        for i, m in enumerate(bot_f):\n",
    "            bot_f[i][1] += ([i+1 for i, (_,x) in enumerate(sorted(zip(LR.coef_[0],features))) if x == m[0]])\n",
    "    save_file('metrics/LR_' + str(key) + '_' + str(size) + '.top', top_f)\n",
    "    save_file('metrics/LR_' + str(key) + '_' + str(size) + '.bot', bot_f)\n",
    "    #break"
   ]
  },
  {
   "cell_type": "code",
   "execution_count": 12,
   "metadata": {
    "collapsed": false
   },
   "outputs": [
    {
     "name": "stdout",
     "output_type": "stream",
     "text": [
      "0.021001105508248057\n",
      "0.013934538320096551\n",
      "0.014550998013108253\n",
      "0.014117020530481446\n",
      "0.014584196070278709\n",
      "0.014175545137364418\n",
      "0.012672553270001968\n",
      "0.012710398366298113\n",
      "0.013441174267645047\n",
      "0.013189509460262134\n",
      "0.014482280014923275\n",
      "0.013105473498922852\n",
      "0.01362149537094054\n",
      "0.013670945365126239\n"
     ]
    }
   ],
   "source": [
    "for i in range(len(x)):\n",
    "    print(sum([1/x[1][i] for x in top_f])/len(top_f))"
   ]
  },
  {
   "cell_type": "code",
   "execution_count": 13,
   "metadata": {
    "collapsed": false
   },
   "outputs": [
    {
     "name": "stdout",
     "output_type": "stream",
     "text": [
      "0.020942212934331673\n",
      "0.00889474054785475\n",
      "0.00994501561070268\n",
      "0.01087588001851172\n",
      "0.012441232804555148\n",
      "0.0123735752107202\n",
      "0.010448376913168895\n",
      "0.010390998574581195\n",
      "0.010969375583755084\n",
      "0.010024550665637028\n",
      "0.00920653224992092\n",
      "0.009853709168588062\n",
      "0.009126177566142896\n",
      "0.007355102541128544\n"
     ]
    }
   ],
   "source": [
    "for i in range(len(x)):\n",
    "    print(sum([1/x[1][i] for x in bot_f])/len(bot_f))"
   ]
  },
  {
   "cell_type": "code",
   "execution_count": 24,
   "metadata": {
    "collapsed": false
   },
   "outputs": [
    {
     "data": {
      "text/plain": [
       "[array(['absolutely', 'album', 'all', 'all the', 'also', 'always', 'am',\n",
       "        'amazing', 'an', 'and', 'and is', 'anyone', 'anyone who', 'are',\n",
       "        'at the', 'awesome', 'beautiful', 'being', 'best', 'book', 'books',\n",
       "        'by', 'can', 'can wait', 'case', 'cd', 'characters', 'clean',\n",
       "        'comfortable', 'day', 'definitely', 'down', 'each', 'easy',\n",
       "        'easy to', 'enjoy', 'enjoyed', 'ever', 'everything', 'exactly',\n",
       "        'exactly what', 'excellent', 'fantastic', 'far', 'fast', 'favorite',\n",
       "        'fits', 'for', 'for my', 'for the', 'fun', 'gift', 'glad', 'good',\n",
       "        'good quality', 'great', 'happy', 'happy with', 'has', 'heavy',\n",
       "        'helps', 'highly', 'highly recommend', 'him', 'his', 'home', 'how',\n",
       "        'husband', 'in', 'is', 'is great', 'is the', 'issues', 'it down',\n",
       "        'it is', 'it works', 'job', 'keep', 'keeps', 'light', 'little',\n",
       "        'looking', 'love', 'love it', 'love the', 'love this', 'loved',\n",
       "        'loved it', 'loves', 'loves it', 'make', 'many', 'me', 'more',\n",
       "        'most', 'music', 'must', 'my', 'my husband', 'needed', 'new',\n",
       "        'next', 'nice', 'nicely', 'not only', 'of my', 'one', 'ones', 'our',\n",
       "        'perfect', 'perfect for', 'perfectly', 'pleased', 'price', 'put',\n",
       "        'quick', 'read', 'really', 'really like', 'recommend',\n",
       "        'recommend it', 'recommend this', 'recommended', 'screen', 'series',\n",
       "        'she', 'simple', 'since', 'so', 'so far', 'song', 'story', 'sturdy',\n",
       "        'super', 'take', 'thank', 'thank you', 'thanks', 'the best',\n",
       "        'the job', 'the only', 'these', 'this', 'this book', 'this is',\n",
       "        'this series', 'through', 'to anyone', 'to put', 'to see', 'used',\n",
       "        'using', 've', 'very good', 'very happy', 'very nice', 'very well',\n",
       "        'wait', 'wait to', 'warm', 'we', 'well', 'who', 'will', 'will be',\n",
       "        'with', 'with the', 'wonderful', 'works', 'works great', 'world',\n",
       "        'would recommend', 'years', 'yet', 'you', 'you will'],\n",
       "       dtype='<U38')]"
      ]
     },
     "execution_count": 24,
     "metadata": {},
     "output_type": "execute_result"
    }
   ],
   "source": [
    "#print(CV.vocabulary_.get('boring'))\n",
    "#def important_features():\n",
    "temp = [x for x in list(np.where(LR2.coef_ > 0.03))][1]\n",
    "temp2 = np.zeros(len(LR2.coef_[0]))\n",
    "temp2[temp] = 1\n",
    "CV.inverse_transform(temp2)"
   ]
  },
  {
   "cell_type": "code",
   "execution_count": 10,
   "metadata": {
    "collapsed": false,
    "scrolled": false
   },
   "outputs": [
    {
     "name": "stdout",
     "output_type": "stream",
     "text": [
      "['2001', '2002', '2003', '2004', '2005', '2006', '2007', '2008', '2009', '2010', '2011', '2012', '2013', '2014'] [79944, 82750, 87948, 105154, 144502, 159232, 241791, 275799, 352714, 461740, 731465, 1389066, 3394115, 2376696]\n"
     ]
    },
    {
     "data": {
      "image/png": "[encoded data removed]",
      "text/plain": [
       "<matplotlib.figure.Figure at 0x22b0c390a90>"
      ]
     },
     "metadata": {},
     "output_type": "display_data"
    }
   ],
   "source": [
    "x = sorted(list(data.keys()))\n",
    "y = [seen.get(yr) for yr in x]\n",
    "\n",
    "print(x, y)\n",
    "\n",
    "plt.bar(x, y)\n",
    "plt.show()"
   ]
  },
  {
   "cell_type": "code",
   "execution_count": 26,
   "metadata": {
    "collapsed": false
   },
   "outputs": [
    {
     "data": {
      "text/plain": [
       "0.035323462450434225"
      ]
     },
     "execution_count": 26,
     "metadata": {},
     "output_type": "execute_result"
    }
   ],
   "source": [
    "0.05229674260242041\n",
    "0.04466093736383697\n",
    "0.041246644336741155\n",
    "0.04436821107736982\n",
    "0.043771343985104655\n",
    "0.043938054233488656\n",
    "0.04301488733617493\n",
    "0.042890886755929364\n",
    "0.04293063117143191\n",
    "0.03930609407453662\n",
    "0.04011972861174232\n",
    "0.03983288092625466\n",
    "0.038464989444320676\n",
    "0.03933764204026648\n",
    "\n",
    "\n",
    "0.05187377517639621\n",
    "0.0419466582555003\n",
    "0.04236477657775657\n",
    "0.043596386131456936\n",
    "0.039214832698759236\n",
    "0.042987364768805596\n",
    "0.04350434047806224\n",
    "0.039924124582373835\n",
    "0.04313042796498879\n",
    "0.03682041207471429\n",
    "0.03939157802085965\n",
    "0.03739049389522036\n",
    "0.03612349216990129\n",
    "0.035323462450434225"
   ]
  },
  {
   "cell_type": "code",
   "execution_count": null,
   "metadata": {
    "collapsed": true
   },
   "outputs": [],
   "source": []
  }
 ],
 "metadata": {
  "anaconda-cloud": {},
  "kernelspec": {
   "display_name": "Python [conda root]",
   "language": "python",
   "name": "conda-root-py"
  },
  "language_info": {
   "codemirror_mode": {
    "name": "ipython",
    "version": 3
   },
   "file_extension": ".py",
   "mimetype": "text/x-python",
   "name": "python",
   "nbconvert_exporter": "python",
   "pygments_lexer": "ipython3",
   "version": "3.5.2"
  }
 },
 "nbformat": 4,
 "nbformat_minor": 1
}
