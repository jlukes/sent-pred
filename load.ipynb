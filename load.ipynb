{
 "cells": [
  {
   "cell_type": "code",
   "execution_count": 1,
   "metadata": {
    "collapsed": false
   },
   "outputs": [],
   "source": [
    "import numpy as np\n",
    "import pandas as pd\n",
    "\n",
    "import matplotlib.pyplot as plt\n",
    "\n",
    "import json\n",
    "import random\n",
    "from collections import defaultdict\n",
    "from collections import Counter\n",
    "from nltk.corpus import stopwords"
   ]
  },
  {
   "cell_type": "code",
   "execution_count": 2,
   "metadata": {
    "collapsed": false
   },
   "outputs": [
    {
     "name": "stdout",
     "output_type": "stream",
     "text": [
      "{'reviewText': \"It is and does exactly what the description said it would be and would do. Couldn't be happier with it.\", 'summary': \"Does what it's supposed to do\", 'asin': 'B003UYU16G', 'helpful': [0, 0], 'reviewerName': 'Steven N Elich', 'overall': 5.0, 'unixReviewTime': 1353456000, 'reviewTime': '11 21, 2012', 'reviewerID': 'A00000262KYZUE4J55XGL'}\n"
     ]
    }
   ],
   "source": [
    "file='aggressive_dedup.json'\n",
    "with open(file) as infile:\n",
    "    for line in infile:\n",
    "        data = json.loads(line)\n",
    "        print(data)\n",
    "        break"
   ]
  },
  {
   "cell_type": "code",
   "execution_count": 3,
   "metadata": {
    "collapsed": false
   },
   "outputs": [],
   "source": [
    "def get_data(file='aggressive_dedup.json', year='2001', limit=10000000, size=30000):\n",
    "    data = defaultdict(list)\n",
    "    time = defaultdict(list)\n",
    "    ratings = defaultdict(list)\n",
    "    seen = {}\n",
    "    \n",
    "    with open(file) as infile:\n",
    "        i = 0\n",
    "        for line in infile:\n",
    "            x = json.loads(line)\n",
    "            yr = x['reviewTime'][-4:]\n",
    "            rt = int(x.get('overall'))\n",
    "            if yr >= year:\n",
    "                if yr not in seen:\n",
    "                    seen[yr] = 1\n",
    "                else:\n",
    "                    seen[yr] += 1\n",
    "                if len(data[yr]) < size:\n",
    "                    data[yr].append(x.get('reviewText'))\n",
    "                    time[yr].append(x.get('reviewTime'))\n",
    "                    ratings[yr].append(rt)\n",
    "                else:\n",
    "                    if np.random.uniform() < size/seen[yr]:\n",
    "                        p = np.random.randint(size)\n",
    "                        data[yr][p] = x.get('reviewText')\n",
    "                        time[yr][p] = x.get('reviewTime')\n",
    "                        ratings[yr][p] = rt            \n",
    "            i += 1\n",
    "            if i > limit:\n",
    "                break\n",
    "    return data, time, ratings, seen\n",
    "\n",
    "def binarify(val):\n",
    "    if 4 > val:\n",
    "        return 0\n",
    "    else:\n",
    "        return 1\n",
    "\n",
    "def simplify_ratings(data, ratings):\n",
    "    keys = sorted(list(ratings.keys()))\n",
    "    for key in keys:\n",
    "        ratings[key] = [binarify(x) for x in ratings.get(key)]\n",
    "    return ratings"
   ]
  },
  {
   "cell_type": "code",
   "execution_count": 4,
   "metadata": {
    "collapsed": false
   },
   "outputs": [
    {
     "name": "stdout",
     "output_type": "stream",
     "text": [
      "2001 >>> 30000\n",
      "2012 >>> 30000\n",
      "2005 >>> 30000\n",
      "2002 >>> 30000\n",
      "2003 >>> 30000\n",
      "2009 >>> 30000\n",
      "2010 >>> 30000\n",
      "2004 >>> 30000\n",
      "2011 >>> 30000\n",
      "2014 >>> 30000\n",
      "2013 >>> 30000\n",
      "2007 >>> 30000\n",
      "2006 >>> 30000\n",
      "2008 >>> 30000\n"
     ]
    }
   ],
   "source": [
    "data, time, ratings, seen = get_data()\n",
    "ratings_b = simplify_ratings(data, ratings)\n",
    "\n",
    "for key in data.keys():\n",
    "    print(key, '>>>', len(data[key]))"
   ]
  },
  {
   "cell_type": "code",
   "execution_count": 5,
   "metadata": {
    "collapsed": false
   },
   "outputs": [
    {
     "data": {
      "text/plain": [
       "\"print(data['2005'][0])\\ndata2 = stopwords_filter(data)\\nprint(data['2005'][0])\""
      ]
     },
     "execution_count": 5,
     "metadata": {},
     "output_type": "execute_result"
    }
   ],
   "source": [
    "def stopwords_filter(data):\n",
    "    stop_words = set(stopwords.words('english'))\n",
    "    x = sorted(list(data.keys()))\n",
    "    for key in x:\n",
    "        for i, m in enumerate(data[key]):\n",
    "            data[key][i] = ' '.join( (w for w in m.split() if w not in stop_words) )\n",
    "    return data\n",
    "\n",
    "\"\"\"print(data['2005'][0])\n",
    "data2 = stopwords_filter(data)\n",
    "print(data['2005'][0])\"\"\""
   ]
  },
  {
   "cell_type": "code",
   "execution_count": 6,
   "metadata": {
    "collapsed": false
   },
   "outputs": [
    {
     "name": "stdout",
     "output_type": "stream",
     "text": [
      "[0.19 0.81]\n",
      "[0.19 0.81]\n",
      "[0.21 0.79]\n",
      "[0.23 0.77]\n",
      "[0.24 0.76]\n",
      "[0.23 0.77]\n",
      "[0.21 0.79]\n",
      "[0.22 0.78]\n",
      "[0.23 0.77]\n",
      "[0.24 0.76]\n",
      "[0.24 0.76]\n",
      "[0.23 0.77]\n",
      "[0.21 0.79]\n",
      "[0.21 0.79]\n"
     ]
    }
   ],
   "source": [
    "x = sorted(list(data.keys()))\n",
    "for each in x:\n",
    "    print(np.round(np.array(list((Counter(ratings[each]).values())))/len(ratings[each]), 2))"
   ]
  },
  {
   "cell_type": "code",
   "execution_count": 7,
   "metadata": {
    "collapsed": false
   },
   "outputs": [],
   "source": [
    "from sklearn.feature_extraction.text import CountVectorizer\n",
    "from sklearn.linear_model import RandomizedLogisticRegression\n",
    "from sklearn.linear_model import LogisticRegression\n",
    "from sklearn.metrics import f1_score\n",
    "from sklearn.metrics import recall_score\n",
    "from sklearn.metrics import precision_score"
   ]
  },
  {
   "cell_type": "code",
   "execution_count": 8,
   "metadata": {
    "collapsed": true
   },
   "outputs": [],
   "source": [
    "LR = LogisticRegression(penalty='l1', n_jobs=-1, solver='saga', max_iter=100)\n",
    "LR2 = LogisticRegression(penalty='l1', n_jobs=-1, solver='saga', max_iter=100, class_weight='balanced')\n",
    "\n",
    "CV = CountVectorizer(ngram_range=(1,2), analyzer='word')#, max_features=20000)\n",
    "CV2 = CountVectorizer(ngram_range=(1,2), analyzer='word')\n",
    "\n",
    "features = []"
   ]
  },
  {
   "cell_type": "code",
   "execution_count": 9,
   "metadata": {
    "collapsed": false
   },
   "outputs": [],
   "source": [
    "def split_eighty_twenty(n):\n",
    "    indices = np.random.permutation(n)\n",
    "    threshold = int(np.floor(n*0.8))\n",
    "    return indices[:threshold], indices[threshold:]\n",
    "\n",
    "def test_train(data, ratings_b):\n",
    "    train_idx, test_idx = split_eighty_twenty(len(data))\n",
    "    X_train, X_test = np.array(data)[train_idx], np.array(data)[test_idx]\n",
    "    y_train, y_test = np.array(ratings_b)[train_idx], np.array(ratings_b)[test_idx]\n",
    "    return X_train, X_test, y_train, y_test\n",
    "\n",
    "def predict_scores(data, ratings_b, CV, LR, i):   \n",
    "    X_train, X_test, y_train, y_test = test_train(data, ratings_b)\n",
    "\n",
    "    if i == 0:\n",
    "        X_train = CV.fit_transform(X_train)\n",
    "        X_test = CV.transform(X_test)\n",
    "        features[:] = list(CV.get_feature_names())\n",
    "    else:\n",
    "        X_train = CV.transform(X_train)\n",
    "        X_test = CV.transform(X_test)\n",
    "\n",
    "    LR.fit(X_train,y_train)\n",
    "    y_pred = LR.predict(X_test)\n",
    "    print(LR.score(X_test, y_test))\n",
    "    print('f1:', f1_score(y_test, y_pred, pos_label=1, average=None))\n",
    "    print('recall:', recall_score(y_test, y_pred, pos_label=1, average=None))\n",
    "    print('precision:', precision_score(y_test, y_pred, pos_label=1, average=None))\n",
    "    print()    \n",
    "    return LR, CV"
   ]
  },
  {
   "cell_type": "code",
   "execution_count": 10,
   "metadata": {
    "collapsed": false
   },
   "outputs": [
    {
     "name": "stderr",
     "output_type": "stream",
     "text": [
      "D:\\Programs\\Anaconda\\lib\\site-packages\\sklearn\\linear_model\\sag.py:326: ConvergenceWarning: The max_iter was reached which means the coef_ did not converge\n",
      "  \"the coef_ did not converge\", ConvergenceWarning)\n"
     ]
    },
    {
     "name": "stdout",
     "output_type": "stream",
     "text": [
      "0.8738333333333334\n",
      "f1: [0.60220704 0.92502724]\n",
      "recall: [0.51069519 0.95735957]\n",
      "precision: [0.73367478 0.89480743]\n",
      "\n",
      "0.87\n",
      "f1: [0.61462451 0.92181235]\n",
      "recall: [0.53299057 0.95137596]\n",
      "precision: [0.72578763 0.89403072]\n",
      "\n",
      "0.8605\n",
      "f1: [0.60611765 0.91524051]\n",
      "recall: [0.52485738 0.94678399]\n",
      "precision: [0.71714922 0.88573109]\n",
      "\n",
      "0.8365\n",
      "f1: [0.55185016 0.90001019]\n",
      "recall: [0.44773907 0.94925822]\n",
      "precision: [0.71904762 0.85562016]\n",
      "\n",
      "0.8303333333333334\n",
      "f1: [0.59116466 0.89295478]\n",
      "recall: [0.49932157 0.93813522]\n",
      "precision: [0.72440945 0.85192616]\n",
      "\n",
      "0.8261666666666667\n",
      "f1: [0.54073096 0.89279474]\n",
      "recall: [0.44428365 0.94045041]\n",
      "precision: [0.69066367 0.84973586]\n",
      "\n",
      "0.8406666666666667\n",
      "f1: [0.55243446 0.90308191]\n",
      "recall: [0.46788263 0.93986073]\n",
      "precision: [0.67428571 0.86907317]\n",
      "\n",
      "0.8215\n",
      "f1: [0.49072753 0.89178539]\n",
      "recall: [0.39299315 0.94154043]\n",
      "precision: [0.65316456 0.84702495]\n",
      "\n",
      "0.8455\n",
      "f1: [0.61262014 0.90350786]\n",
      "recall: [0.53270349 0.93858131]\n",
      "precision: [0.7207473  0.87096127]\n",
      "\n",
      "0.8306666666666667\n",
      "f1: [0.58258012 0.89379051]\n",
      "recall: [0.49719495 0.93463052]\n",
      "precision: [0.70337302 0.85637019]\n",
      "\n",
      "0.8168333333333333\n",
      "f1: [0.55451966 0.88471625]\n",
      "recall: [0.46435845 0.93152198]\n",
      "precision: [0.68812877 0.84238913]\n",
      "\n",
      "0.8228333333333333\n",
      "f1: [0.52734549 0.89098554]\n",
      "recall: [0.42939899 0.9404633 ]\n",
      "precision: [0.68317972 0.84645362]\n",
      "\n",
      "0.8233333333333334\n",
      "f1: [0.47628458 0.89374499]\n",
      "recall: [0.37952756 0.94249471]\n",
      "precision: [0.63925729 0.84979032]\n",
      "\n",
      "0.8585\n",
      "f1: [0.59202307 0.91440669]\n",
      "recall: [0.5124792  0.94518549]\n",
      "precision: [0.70079636 0.88556922]\n",
      "\n"
     ]
    }
   ],
   "source": [
    "x = sorted(list(data.keys()))\n",
    "for i, key in enumerate(x):\n",
    "    LR, CV = predict_scores(data[key], ratings_b[key], CV, LR, i)\n",
    "    if i == 0:\n",
    "        top_f = [[x,[len(features)-i]] for i, (_,x) in enumerate(sorted(zip(LR.coef_[0],features)))][:-100:-1]\n",
    "        bot_f = [[x,[i+1]] for i, (_,x) in enumerate(sorted(zip(LR.coef_[0],features)))][:100]\n",
    "    else:\n",
    "        for i, m in enumerate(top_f):\n",
    "            top_f[i][1] += [len(features)-i for i, (_,x) in enumerate(sorted(zip(LR.coef_[0],features))) if x == m[0]]\n",
    "        for i, m in enumerate(bot_f):\n",
    "            bot_f[i][1] += ([i+1 for i, (_,x) in enumerate(sorted(zip(LR.coef_[0],features))) if x == m[0]])\n",
    "    #LR2, CV2 = predict_scores(data[key], ratings_b[key], CV2, LR2, i)\n",
    "    #break"
   ]
  },
  {
   "cell_type": "code",
   "execution_count": 11,
   "metadata": {
    "collapsed": false
   },
   "outputs": [
    {
     "name": "stdout",
     "output_type": "stream",
     "text": [
      "0.05229674260242041\n",
      "0.04678443773605675\n",
      "0.04759621757514499\n",
      "0.048147011336518886\n",
      "0.047879264096056195\n",
      "0.046866111394039685\n",
      "0.045214315456173985\n",
      "0.04415461395412048\n",
      "0.04462153204131173\n",
      "0.041916659655200465\n",
      "0.040471118448919166\n",
      "0.03826323097153294\n",
      "0.03515566454300378\n",
      "0.03880535287210974\n"
     ]
    }
   ],
   "source": [
    "for i in range(len(x)):\n",
    "    print(sum([1/x[1][i] for x in top_f])/len(top_f))"
   ]
  },
  {
   "cell_type": "code",
   "execution_count": 12,
   "metadata": {
    "collapsed": false
   },
   "outputs": [
    {
     "name": "stdout",
     "output_type": "stream",
     "text": [
      "0.05187377517639621\n",
      "0.04716578601129287\n",
      "0.047458403160211944\n",
      "0.04626565186906045\n",
      "0.046993995593920736\n",
      "0.046226644681365024\n",
      "0.04689650220066419\n",
      "0.04148978743556555\n",
      "0.04393477044468199\n",
      "0.041947162980562495\n",
      "0.04073420767072171\n",
      "0.035982389966517266\n",
      "0.03426016020723973\n",
      "0.039757472927198056\n"
     ]
    }
   ],
   "source": [
    "for i in range(len(x)):\n",
    "    print(sum([1/x[1][i] for x in bot_f])/len(bot_f))"
   ]
  },
  {
   "cell_type": "code",
   "execution_count": 18,
   "metadata": {
    "collapsed": true
   },
   "outputs": [],
   "source": [
    "import pickle"
   ]
  },
  {
   "cell_type": "code",
   "execution_count": 19,
   "metadata": {
    "collapsed": false
   },
   "outputs": [],
   "source": [
    "with open(\"top.txt\", \"wb\") as fp:   #Pickling\n",
    "    pickle.dump(top_f, fp)"
   ]
  },
  {
   "cell_type": "code",
   "execution_count": 20,
   "metadata": {
    "collapsed": false
   },
   "outputs": [],
   "source": [
    "with open(\"bot.txt\", \"wb\") as fp:   #Pickling\n",
    "    pickle.dump(bot_f, fp)"
   ]
  },
  {
   "cell_type": "code",
   "execution_count": 15,
   "metadata": {
    "collapsed": false
   },
   "outputs": [
    {
     "data": {
      "text/plain": [
       "[array(['always', 'amazing', 'and', 'any', 'anyone', 'awesome',\n",
       "        'beautiful', 'best', 'came', 'can', 'can wait', 'colors',\n",
       "        'comfortable', 'cool', 'definitely', 'down', 'easily', 'easy',\n",
       "        'easy to', 'enjoy', 'enjoyed', 'exactly', 'exactly what',\n",
       "        'excellent', 'fast', 'fits', 'for the', 'fun', 'game', 'gift',\n",
       "        'glad', 'good', 'great', 'happy', 'happy with', 'has', 'helps',\n",
       "        'highly', 'highly recommend', 'how', 'in', 'it is', 'job',\n",
       "        'just as', 'keeps', 'life', 'like', 'like the', 'little',\n",
       "        'looking', 'love', 'love it', 'love the', 'love this', 'loved',\n",
       "        'loved it', 'loves', 'loves it', 'many', 'movie', 'must', 'my',\n",
       "        'need', 'needed', 'next', 'nice', 'not too', 'now', 'our',\n",
       "        'perfect', 'perfect for', 'perfectly', 'pleased', 'price', 'put',\n",
       "        'read', 'reading', 'really', 'recommend', 'recommend it',\n",
       "        'recommend this', 'recommended', 'series', 'so far', 'so much',\n",
       "        'soft', 'some', 'thank', 'thank you', 'thanks', 'the best',\n",
       "        'the next', 'the only', 'these', 'this', 'this is', 'very',\n",
       "        'very happy', 'very well', 'wait', 'we', 'well', 'will', 'with',\n",
       "        'without', 'wonderful', 'works', 'would recommend', 'years', 'you'],\n",
       "       dtype='<U54')]"
      ]
     },
     "execution_count": 15,
     "metadata": {},
     "output_type": "execute_result"
    }
   ],
   "source": [
    "#print(CV.vocabulary_.get('boring'))\n",
    "#def important_features():\n",
    "temp = [x for x in list(np.where(LR.coef_ > 0.1))][1]\n",
    "temp2 = np.zeros(len(LR.coef_[0]))\n",
    "temp2[temp] = 1\n",
    "CV.inverse_transform(temp2)"
   ]
  },
  {
   "cell_type": "code",
   "execution_count": 10,
   "metadata": {
    "collapsed": false,
    "scrolled": false
   },
   "outputs": [
    {
     "name": "stdout",
     "output_type": "stream",
     "text": [
      "['2001', '2002', '2003', '2004', '2005', '2006', '2007', '2008', '2009', '2010', '2011', '2012', '2013', '2014'] [79944, 82750, 87948, 105154, 144502, 159232, 241791, 275799, 352714, 461740, 731465, 1389066, 3394115, 2376696]\n"
     ]
    },
    {
     "data": {
      "image/png": "[encoded data removed]",
      "text/plain": [
       "<matplotlib.figure.Figure at 0x22b0c390a90>"
      ]
     },
     "metadata": {},
     "output_type": "display_data"
    }
   ],
   "source": [
    "x = sorted(list(data.keys()))\n",
    "y = [seen.get(yr) for yr in x]\n",
    "\n",
    "print(x, y)\n",
    "\n",
    "plt.bar(x, y)\n",
    "plt.show()"
   ]
  },
  {
   "cell_type": "code",
   "execution_count": null,
   "metadata": {
    "collapsed": true
   },
   "outputs": [],
   "source": []
  }
 ],
 "metadata": {
  "anaconda-cloud": {},
  "kernelspec": {
   "display_name": "Python [conda root]",
   "language": "python",
   "name": "conda-root-py"
  },
  "language_info": {
   "codemirror_mode": {
    "name": "ipython",
    "version": 3
   },
   "file_extension": ".py",
   "mimetype": "text/x-python",
   "name": "python",
   "nbconvert_exporter": "python",
   "pygments_lexer": "ipython3",
   "version": "3.5.2"
  }
 },
 "nbformat": 4,
 "nbformat_minor": 1
}
