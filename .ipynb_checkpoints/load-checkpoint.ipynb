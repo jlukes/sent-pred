{
 "cells": [
  {
   "cell_type": "code",
   "execution_count": 66,
   "metadata": {
    "collapsed": false
   },
   "outputs": [],
   "source": [
    "import numpy as np\n",
    "import pandas as pd\n",
    "\n",
    "import matplotlib.pyplot as plt\n",
    "\n",
    "import json\n",
    "import random\n",
    "from collections import defaultdict\n",
    "from collections import Counter"
   ]
  },
  {
   "cell_type": "code",
   "execution_count": 67,
   "metadata": {
    "collapsed": false
   },
   "outputs": [
    {
     "name": "stdout",
     "output_type": "stream",
     "text": [
      "{'reviewerName': 'Steven N Elich', 'helpful': [0, 0], 'reviewText': \"It is and does exactly what the description said it would be and would do. Couldn't be happier with it.\", 'reviewerID': 'A00000262KYZUE4J55XGL', 'summary': \"Does what it's supposed to do\", 'unixReviewTime': 1353456000, 'overall': 5.0, 'reviewTime': '11 21, 2012', 'asin': 'B003UYU16G'}\n"
     ]
    }
   ],
   "source": [
    "with open(file) as infile:\n",
    "    for line in infile:\n",
    "        data = json.loads(line)\n",
    "        print(data)\n",
    "        break"
   ]
  },
  {
   "cell_type": "code",
   "execution_count": 73,
   "metadata": {
    "collapsed": true
   },
   "outputs": [],
   "source": [
    "def get_data(file='aggressive_dedup.json', year='2001', limit=1000000, size=10000):\n",
    "    data = defaultdict(list)\n",
    "    ratings = defaultdict(list)\n",
    "    seen = {}\n",
    "    \n",
    "    with open(file) as infile:\n",
    "        i = 0\n",
    "        for line in infile:\n",
    "            x = json.loads(line)\n",
    "            yr = x['reviewTime'][-4:]\n",
    "            rt = int(x.get('overall'))\n",
    "            if yr >= year:\n",
    "                if yr not in seen:\n",
    "                    seen[yr] = 1\n",
    "                else:\n",
    "                    seen[yr] += 1\n",
    "                if len(data[yr]) < size:\n",
    "                    data[yr].append(x.get('reviewText'))\n",
    "                    ratings[yr].append(rt)\n",
    "                else:\n",
    "                    if np.random.uniform() < size/seen[yr]:\n",
    "                        p = np.random.randint(size)\n",
    "                        data[yr][p] = x.get('reviewText')\n",
    "                        ratings[yr][p] = rt            \n",
    "            i += 1\n",
    "            if i > limit:\n",
    "                break\n",
    "    return data, ratings"
   ]
  },
  {
   "cell_type": "code",
   "execution_count": 74,
   "metadata": {
    "collapsed": false
   },
   "outputs": [
    {
     "name": "stdout",
     "output_type": "stream",
     "text": [
      "2001 >>> 6718\n",
      "2003 >>> 7523\n",
      "2012 >>> 10000\n",
      "2006 >>> 10000\n",
      "2007 >>> 10000\n",
      "2011 >>> 10000\n",
      "2013 >>> 10000\n",
      "2002 >>> 6929\n",
      "2010 >>> 10000\n",
      "2014 >>> 10000\n",
      "2009 >>> 10000\n",
      "2008 >>> 10000\n",
      "2005 >>> 10000\n",
      "2004 >>> 9275\n"
     ]
    }
   ],
   "source": [
    "data, ratings = get_data()\n",
    "\n",
    "for key in data.keys():\n",
    "    print(key, '>>>', len(data[key]))"
   ]
  },
  {
   "cell_type": "code",
   "execution_count": 75,
   "metadata": {
    "collapsed": false
   },
   "outputs": [
    {
     "name": "stdout",
     "output_type": "stream",
     "text": [
      "[0.06 0.05 0.09 0.21 0.59]\n",
      "[0.06 0.05 0.08 0.2  0.61]\n",
      "[0.08 0.06 0.09 0.2  0.58]\n",
      "[0.09 0.06 0.08 0.2  0.57]\n",
      "[0.11 0.06 0.08 0.18 0.56]\n",
      "[0.1  0.06 0.09 0.19 0.56]\n",
      "[0.07 0.05 0.08 0.2  0.6 ]\n",
      "[0.08 0.05 0.08 0.2  0.59]\n",
      "[0.09 0.05 0.09 0.19 0.58]\n",
      "[0.1  0.06 0.09 0.19 0.57]\n",
      "[0.11 0.06 0.09 0.18 0.56]\n",
      "[0.09 0.05 0.09 0.18 0.59]\n",
      "[0.08 0.05 0.08 0.19 0.6 ]\n",
      "[0.08 0.05 0.09 0.18 0.61]\n"
     ]
    }
   ],
   "source": [
    "x = sorted(list(data.keys()))\n",
    "for each in x:\n",
    "    print(np.round(np.array(list((Counter(ratings[each]).values())))/len(ratings[each]), 2))"
   ]
  },
  {
   "cell_type": "code",
   "execution_count": 70,
   "metadata": {
    "collapsed": false
   },
   "outputs": [
    {
     "name": "stdout",
     "output_type": "stream",
     "text": [
      "[0.04 0.06 0.08 0.21 0.61]\n",
      "[0.06 0.05 0.08 0.2  0.6 ]\n",
      "[0.07 0.04 0.08 0.19 0.61]\n",
      "[0.09 0.06 0.09 0.2  0.56]\n",
      "[0.11 0.06 0.1  0.2  0.53]\n",
      "[0.09 0.06 0.09 0.19 0.56]\n",
      "[0.06 0.04 0.08 0.21 0.61]\n",
      "[0.08 0.05 0.08 0.21 0.56]\n",
      "[0.08 0.05 0.09 0.2  0.57]\n",
      "[0.09 0.05 0.08 0.21 0.57]\n",
      "[0.09 0.06 0.09 0.22 0.54]\n",
      "[0.08 0.06 0.08 0.2  0.59]\n",
      "[0.06 0.05 0.08 0.21 0.6 ]\n",
      "[0.06 0.06 0.08 0.17 0.63]\n"
     ]
    }
   ],
   "source": [
    "x = sorted(list(data.keys()))\n",
    "for each in x:\n",
    "    print(np.round(np.array(list((Counter(ratings[each]).values())))/len(ratings[each]), 2))"
   ]
  },
  {
   "cell_type": "code",
   "execution_count": null,
   "metadata": {
    "collapsed": true
   },
   "outputs": [],
   "source": []
  },
  {
   "cell_type": "code",
   "execution_count": 67,
   "metadata": {
    "collapsed": false,
    "scrolled": false
   },
   "outputs": [
    {
     "name": "stdout",
     "output_type": "stream",
     "text": [
      "['1997', '1998', '1999', '2000', '2001', '2002', '2003', '2004', '2005', '2006', '2007', '2008', '2009', '2010', '2011', '2012', '2013', '2014'] [165, 846, 2384, 7044, 6718, 6929, 7523, 9275, 12476, 14058, 22371, 25063, 32369, 41851, 67920, 140386, 354659, 247964]\n"
     ]
    },
    {
     "data": {
      "image/png": "[encoded data removed]",
      "text/plain": [
       "<matplotlib.figure.Figure at 0x213d6ae0278>"
      ]
     },
     "metadata": {},
     "output_type": "display_data"
    }
   ],
   "source": [
    "x = sorted(list(data.keys()))\n",
    "y = [years.get(yr) for yr in x]\n",
    "\n",
    "print(x, y)\n",
    "\n",
    "plt.bar(x, y)\n",
    "plt.show()"
   ]
  },
  {
   "cell_type": "code",
   "execution_count": null,
   "metadata": {
    "collapsed": true
   },
   "outputs": [],
   "source": []
  }
 ],
 "metadata": {
  "anaconda-cloud": {},
  "kernelspec": {
   "display_name": "Python [conda root]",
   "language": "python",
   "name": "conda-root-py"
  },
  "language_info": {
   "codemirror_mode": {
    "name": "ipython",
    "version": 3
   },
   "file_extension": ".py",
   "mimetype": "text/x-python",
   "name": "python",
   "nbconvert_exporter": "python",
   "pygments_lexer": "ipython3",
   "version": "3.5.2"
  }
 },
 "nbformat": 4,
 "nbformat_minor": 1
}
