{
 "cells": [
  {
   "cell_type": "code",
   "execution_count": null,
   "metadata": {
    "collapsed": false
   },
   "outputs": [],
   "source": [
    "import library as l\n",
    "\n",
    "import numpy as np\n",
    "import pandas as pd\n",
    "import copy\n",
    "import matplotlib.pyplot as plt\n",
    "import datetime\n",
    "import os\n",
    "\n",
    "from sklearn.feature_extraction.text import CountVectorizer\n",
    "from sklearn.linear_model import LogisticRegression"
   ]
  },
  {
   "cell_type": "code",
   "execution_count": null,
   "metadata": {
    "collapsed": false
   },
   "outputs": [],
   "source": [
    "file='aggressive_dedup.json'\n",
    "size = 40000\n",
    "topsize = 300\n",
    "\n",
    "seed1 = np.random.randint(size)\n",
    "print(seed1)\n",
    "#seed2 = np.random.randint(size)\n",
    "today = datetime.date.today()\n",
    "\n",
    "savestring = 'seed_' + str(seed1) + '_size_' + str(size) + '_topsize_' + str(topsize) + '_date_' + str(today)\n",
    "\n",
    "if not os.path.exists(savestring):\n",
    "    os.makedirs(savestring)"
   ]
  },
  {
   "cell_type": "code",
   "execution_count": null,
   "metadata": {
    "collapsed": false
   },
   "outputs": [],
   "source": [
    "data, time, ratings, seen, indices = l.get_data(year='2001', size=size, limit=100000000)\n",
    "\n",
    "l.save_file(savestring + '/indices.data', indices)\n",
    "l.save_file(savestring + '/seen.data', seen)\n",
    "\n",
    "l.simplify_ratings(data, ratings)\n",
    "l.save_file(savestring + '/ratings.data', ratings)\n",
    "\n",
    "#data2 = l.stopwords_filter(data)\n",
    "\n",
    "l.selection_print(data, ratings)\n",
    "\n",
    "x = sorted(list(data.keys()))\n",
    "y = [seen.get(yr) for yr in x]\n",
    "print(x, y)\n",
    "plt.bar(x, y)\n",
    "plt.show()\n",
    "x = []\n",
    "y = []"
   ]
  },
  {
   "cell_type": "code",
   "execution_count": null,
   "metadata": {
    "collapsed": true
   },
   "outputs": [],
   "source": [
    "LR = LogisticRegression(penalty='l1', n_jobs=-1, solver='saga', max_iter=300)\n",
    "#LR = LogisticRegression(penalty='l1', n_jobs=-1, solver='saga', max_iter=100, class_weight='balanced')\n",
    "\n",
    "CV = CountVectorizer(ngram_range=(1,2), analyzer='word', min_df=5) #, max_features=20000)\n",
    "\n",
    "features = []\n",
    "x = sorted(list(data.keys()))"
   ]
  },
  {
   "cell_type": "code",
   "execution_count": null,
   "metadata": {
    "collapsed": false,
    "scrolled": false
   },
   "outputs": [],
   "source": [
    "for i, key in enumerate(x):\n",
    "    LR, CV = l.predict_scores(data[key], ratings[key], CV, LR, i, key, savestring, features)\n",
    "    \n",
    "    if i == 0:\n",
    "        top_f = [[x,[len(features)-i]] for i, (_,x) in enumerate(sorted(zip(LR.coef_[0],features)))][:(-topsize - 1):-1]\n",
    "        bot_f = [[x,[i+1]] for i, (_,x) in enumerate(sorted(zip(LR.coef_[0],features)))][:topsize]\n",
    "    else:\n",
    "        for i, m in enumerate(top_f):\n",
    "            top_f[i][1] += [len(features)-i for i, (_,x) in enumerate(sorted(zip(LR.coef_[0],features))) if x == m[0]]\n",
    "        for i, m in enumerate(bot_f):\n",
    "            bot_f[i][1] += ([i+1 for i, (_,x) in enumerate(sorted(zip(LR.coef_[0],features))) if x == m[0]])\n",
    "\n",
    "l.save_file(savestring + '/top_f.data', top_f)\n",
    "l.save_file(savestring + '/bot_f.data', bot_f)"
   ]
  },
  {
   "cell_type": "code",
   "execution_count": null,
   "metadata": {
    "collapsed": false,
    "scrolled": true
   },
   "outputs": [],
   "source": [
    "for i in range(len(x)):\n",
    "    print(sum([1/x[1][i] for x in top_f])/len(top_f))"
   ]
  },
  {
   "cell_type": "code",
   "execution_count": null,
   "metadata": {
    "collapsed": false
   },
   "outputs": [],
   "source": [
    "for i in range(len(x)):\n",
    "    print(sum([1/x[1][i] for x in bot_f])/len(bot_f))"
   ]
  },
  {
   "cell_type": "code",
   "execution_count": null,
   "metadata": {
    "collapsed": false
   },
   "outputs": [],
   "source": [
    "len(bot_f)"
   ]
  },
  {
   "cell_type": "code",
   "execution_count": null,
   "metadata": {
    "collapsed": false
   },
   "outputs": [],
   "source": [
    "for i, m in enumerate(top_f):\n",
    "    for j, n in enumerate(top_f[i][1]):\n",
    "        if n > 1000:\n",
    "            top_f[i][1][j] = 1000"
   ]
  },
  {
   "cell_type": "code",
   "execution_count": null,
   "metadata": {
    "collapsed": true
   },
   "outputs": [],
   "source": []
  },
  {
   "cell_type": "code",
   "execution_count": null,
   "metadata": {
    "collapsed": false,
    "scrolled": true
   },
   "outputs": [],
   "source": [
    "for i in range(15):\n",
    "    temp = top_f[i][1]\n",
    "    x = range(len(temp))\n",
    "    y = temp\n",
    "    A = np.vstack([x, np.ones(len(x))]).T\n",
    "    m, c = np.linalg.lstsq(A, y)[0]\n",
    "    print('slope: ', m)\n",
    "    plt.plot(x, y, 'o', label='Original data', markersize=10)\n",
    "    plt.plot(x, m*x + c, 'r', label='Fitted line')\n",
    "    plt.title(top_f[i][0])\n",
    "    plt.show()"
   ]
  },
  {
   "cell_type": "code",
   "execution_count": null,
   "metadata": {
    "collapsed": false
   },
   "outputs": [],
   "source": []
  },
  {
   "cell_type": "code",
   "execution_count": null,
   "metadata": {
    "collapsed": false
   },
   "outputs": [],
   "source": []
  },
  {
   "cell_type": "code",
   "execution_count": null,
   "metadata": {
    "collapsed": false,
    "scrolled": false
   },
   "outputs": [],
   "source": []
  },
  {
   "cell_type": "code",
   "execution_count": null,
   "metadata": {
    "collapsed": true
   },
   "outputs": [],
   "source": []
  }
 ],
 "metadata": {
  "anaconda-cloud": {},
  "kernelspec": {
   "display_name": "Python [conda root]",
   "language": "python",
   "name": "conda-root-py"
  },
  "language_info": {
   "codemirror_mode": {
    "name": "ipython",
    "version": 3
   },
   "file_extension": ".py",
   "mimetype": "text/x-python",
   "name": "python",
   "nbconvert_exporter": "python",
   "pygments_lexer": "ipython3",
   "version": "3.5.2"
  }
 },
 "nbformat": 4,
 "nbformat_minor": 1
}
